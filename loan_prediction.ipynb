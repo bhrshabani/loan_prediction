{
  "nbformat": 4,
  "nbformat_minor": 0,
  "metadata": {
    "colab": {
      "name": "loan prediction.ipynb",
      "provenance": [],
      "collapsed_sections": [],
      "authorship_tag": "ABX9TyMexpHre0Ng2+Mi5VrvCNE5",
      "include_colab_link": true
    },
    "kernelspec": {
      "name": "python3",
      "display_name": "Python 3"
    },
    "language_info": {
      "name": "python"
    }
  },
  "cells": [
    {
      "cell_type": "markdown",
      "metadata": {
        "id": "view-in-github",
        "colab_type": "text"
      },
      "source": [
        "<a href=\"https://colab.research.google.com/github/bhrshabani/loan_prediction/blob/main/loan_prediction.ipynb\" target=\"_parent\"><img src=\"https://colab.research.google.com/assets/colab-badge.svg\" alt=\"Open In Colab\"/></a>"
      ]
    },
    {
      "cell_type": "markdown",
      "metadata": {
        "id": "hWjKyQqvF22e"
      },
      "source": [
        "##**Table of Contents**\n",
        "\n",
        "**Loading the data/libraries**\n",
        "\n",
        "**Data description**\n",
        "\n",
        "**Exploratory Data Analysis (EDA)**\n",
        "\n",
        "   1. Missing values \n",
        "   2. Numerical\n",
        "   3. Outlier\n",
        "   4. Categorical\n",
        "   5. Imbalance dataset\n",
        "   6. Correration\n",
        "\n",
        "**preprocess**\n",
        "\n",
        "1.   Handling missing values\n",
        "2.   Handling Outlier\n",
        "3.   Handling Categorical features\n",
        "5.   Feature Engineering\n",
        "\n",
        "\n",
        "**Feature Importance**\n",
        "\n",
        "**Building and Evaluating Models**\n",
        "\n",
        "1. XGBoost\n",
        "2. Decision Tree\n",
        "3. Random Forest\n",
        "4. Logistic Regression\n",
        "\n",
        "**Conclusion**\n"
      ]
    },
    {
      "cell_type": "markdown",
      "metadata": {
        "id": "CkRkUJxmW_v6"
      },
      "source": [
        "#### Data fields:\n",
        "\n",
        "| Variable | Description | \n",
        "|------|------|\n",
        "| Loan_ID | Unique Loan ID | \n",
        "| Gender | Male/ Female | \n",
        "| Married | Applicant married (Y/N) | \n",
        "| Dependents | Number of dependents | \n",
        "| Education | Applicant Education (Graduate/ Under Graduate) | \n",
        "| Self_Employed | Self employed (Y/N) | \n",
        "| ApplicantIncome | Applicant income | \n",
        "| CoapplicantIncome | Coapplicant income | \n",
        "| LoanAmount | Loan amount in thousands | \n",
        "| Loan_Amount_Term | Term of loan in months | \n",
        "| Credit_History | credit history meets guidelines | \n",
        "| Property_Area | Urban/ Semi Urban/ Rural | \n",
        "| Loan_Status | Loan approved (Y/N) | \n"
      ]
    },
    {
      "cell_type": "code",
      "metadata": {
        "id": "MkYL189rGlQT"
      },
      "source": [
        "# import libraries\n",
        "import pandas as pd\n",
        "import numpy as np\n",
        "from google.colab import files\n",
        "\n",
        "import seaborn as sns\n",
        "import matplotlib.pyplot as plt\n",
        "from matplotlib.pyplot import figure\n",
        "from matplotlib import pyplot\n",
        "import plotly\n",
        "sns.set_style('white')\n",
        "%matplotlib inline\n",
        "\n",
        "from sklearn import preprocessing\n",
        "from sklearn.preprocessing import StandardScaler\n",
        "from sklearn.preprocessing import MinMaxScaler\n",
        "from sklearn.model_selection import train_test_split\n",
        "from sklearn.model_selection import KFold\n",
        "\n",
        "from sklearn import metrics\n",
        "from sklearn.metrics import accuracy_score\n",
        "from sklearn.metrics import classification_report\n",
        "from sklearn.metrics import confusion_matrix\n",
        "from sklearn.metrics import roc_auc_score\n",
        "from sklearn.metrics import f1_score\n",
        "from sklearn.model_selection import cross_val_score\n",
        "\n",
        "from sklearn.linear_model import LogisticRegression\n",
        "from sklearn.tree import DecisionTreeClassifier\n",
        "from sklearn.tree import export_text\n",
        "from sklearn.ensemble import RandomForestClassifier\n",
        "from xgboost import XGBClassifier\n",
        "import xgboost as xgb\n",
        "from xgboost import plot_importance\n",
        "from sklearn.model_selection import GridSearchCV\n",
        "\n",
        "from sklearn.utils import resample\n",
        "from imblearn.under_sampling import RandomUnderSampler\n",
        "from imblearn.over_sampling import RandomOverSampler\n",
        "from imblearn.over_sampling import SMOTE\n",
        "from imblearn.over_sampling import BorderlineSMOTE\n",
        "from imblearn.pipeline import Pipeline \n",
        "\n",
        "\n",
        "\n",
        "from sklearn.tree import _tree\n",
        "from collections import Counter\n",
        "\n",
        "from sklearn.feature_selection import VarianceThreshold\n",
        "\n",
        "import warnings\n",
        "warnings.filterwarnings('ignore')\n",
        "pd.set_option('max_colwidth', 1000)\n",
        "pd.set_option('max_rows',40)\n",
        "pd.set_option('max_columns',1000)"
      ],
      "execution_count": null,
      "outputs": []
    },
    {
      "cell_type": "code",
      "metadata": {
        "id": "fv26Dc6FHA7x",
        "colab": {
          "resources": {
            "http://localhost:8080/nbextensions/google.colab/files.js": {
              "data": "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",
              "ok": true,
              "headers": [
                [
                  "content-type",
                  "application/javascript"
                ]
              ],
              "status": 200,
              "status_text": "OK"
            }
          },
          "base_uri": "https://localhost:8080/",
          "height": 75
        },
        "outputId": "ce459ca9-5aef-4ffd-8fa8-91569f644fc1"
      },
      "source": [
        "#load data\n",
        "uploaded = files.upload()\n",
        "#store the data\n",
        "dataset = pd.read_csv(\"rain_train(1).csv\")\n"
      ],
      "execution_count": null,
      "outputs": [
        {
          "output_type": "display_data",
          "data": {
            "text/html": [
              "\n",
              "     <input type=\"file\" id=\"files-ecdfb8cc-9029-4347-a78f-560c2d50149e\" name=\"files[]\" multiple disabled\n",
              "        style=\"border:none\" />\n",
              "     <output id=\"result-ecdfb8cc-9029-4347-a78f-560c2d50149e\">\n",
              "      Upload widget is only available when the cell has been executed in the\n",
              "      current browser session. Please rerun this cell to enable.\n",
              "      </output>\n",
              "      <script src=\"/nbextensions/google.colab/files.js\"></script> "
            ],
            "text/plain": [
              "<IPython.core.display.HTML object>"
            ]
          },
          "metadata": {}
        },
        {
          "output_type": "stream",
          "name": "stdout",
          "text": [
            "Saving rain_train(1).csv to rain_train(1) (1).csv\n"
          ]
        }
      ]
    },
    {
      "cell_type": "code",
      "metadata": {
        "id": "B3jOurlrHRs_"
      },
      "source": [
        "data=dataset.copy()"
      ],
      "execution_count": null,
      "outputs": []
    },
    {
      "cell_type": "code",
      "metadata": {
        "colab": {
          "base_uri": "https://localhost:8080/",
          "height": 244
        },
        "id": "W2Tt7J_yI3fY",
        "outputId": "2c523ea7-4177-4b20-f140-515cf4f6a76d"
      },
      "source": [
        "data.head()"
      ],
      "execution_count": null,
      "outputs": [
        {
          "output_type": "execute_result",
          "data": {
            "text/html": [
              "<div>\n",
              "<style scoped>\n",
              "    .dataframe tbody tr th:only-of-type {\n",
              "        vertical-align: middle;\n",
              "    }\n",
              "\n",
              "    .dataframe tbody tr th {\n",
              "        vertical-align: top;\n",
              "    }\n",
              "\n",
              "    .dataframe thead th {\n",
              "        text-align: right;\n",
              "    }\n",
              "</style>\n",
              "<table border=\"1\" class=\"dataframe\">\n",
              "  <thead>\n",
              "    <tr style=\"text-align: right;\">\n",
              "      <th></th>\n",
              "      <th>Loan_ID</th>\n",
              "      <th>Gender</th>\n",
              "      <th>Married</th>\n",
              "      <th>Dependents</th>\n",
              "      <th>Education</th>\n",
              "      <th>Self_Employed</th>\n",
              "      <th>ApplicantIncome</th>\n",
              "      <th>CoapplicantIncome</th>\n",
              "      <th>LoanAmount</th>\n",
              "      <th>Loan_Amount_Term</th>\n",
              "      <th>Credit_History</th>\n",
              "      <th>Property_Area</th>\n",
              "      <th>Loan_Status</th>\n",
              "    </tr>\n",
              "  </thead>\n",
              "  <tbody>\n",
              "    <tr>\n",
              "      <th>0</th>\n",
              "      <td>LP001002</td>\n",
              "      <td>Male</td>\n",
              "      <td>No</td>\n",
              "      <td>0</td>\n",
              "      <td>Graduate</td>\n",
              "      <td>No</td>\n",
              "      <td>5849</td>\n",
              "      <td>0.0</td>\n",
              "      <td>NaN</td>\n",
              "      <td>360.0</td>\n",
              "      <td>1.0</td>\n",
              "      <td>Urban</td>\n",
              "      <td>Y</td>\n",
              "    </tr>\n",
              "    <tr>\n",
              "      <th>1</th>\n",
              "      <td>LP001003</td>\n",
              "      <td>Male</td>\n",
              "      <td>Yes</td>\n",
              "      <td>1</td>\n",
              "      <td>Graduate</td>\n",
              "      <td>No</td>\n",
              "      <td>4583</td>\n",
              "      <td>1508.0</td>\n",
              "      <td>128.0</td>\n",
              "      <td>360.0</td>\n",
              "      <td>1.0</td>\n",
              "      <td>Rural</td>\n",
              "      <td>N</td>\n",
              "    </tr>\n",
              "    <tr>\n",
              "      <th>2</th>\n",
              "      <td>LP001005</td>\n",
              "      <td>Male</td>\n",
              "      <td>Yes</td>\n",
              "      <td>0</td>\n",
              "      <td>Graduate</td>\n",
              "      <td>Yes</td>\n",
              "      <td>3000</td>\n",
              "      <td>0.0</td>\n",
              "      <td>66.0</td>\n",
              "      <td>360.0</td>\n",
              "      <td>1.0</td>\n",
              "      <td>Urban</td>\n",
              "      <td>Y</td>\n",
              "    </tr>\n",
              "    <tr>\n",
              "      <th>3</th>\n",
              "      <td>LP001006</td>\n",
              "      <td>Male</td>\n",
              "      <td>Yes</td>\n",
              "      <td>0</td>\n",
              "      <td>Not Graduate</td>\n",
              "      <td>No</td>\n",
              "      <td>2583</td>\n",
              "      <td>2358.0</td>\n",
              "      <td>120.0</td>\n",
              "      <td>360.0</td>\n",
              "      <td>1.0</td>\n",
              "      <td>Urban</td>\n",
              "      <td>Y</td>\n",
              "    </tr>\n",
              "    <tr>\n",
              "      <th>4</th>\n",
              "      <td>LP001008</td>\n",
              "      <td>Male</td>\n",
              "      <td>No</td>\n",
              "      <td>0</td>\n",
              "      <td>Graduate</td>\n",
              "      <td>No</td>\n",
              "      <td>6000</td>\n",
              "      <td>0.0</td>\n",
              "      <td>141.0</td>\n",
              "      <td>360.0</td>\n",
              "      <td>1.0</td>\n",
              "      <td>Urban</td>\n",
              "      <td>Y</td>\n",
              "    </tr>\n",
              "  </tbody>\n",
              "</table>\n",
              "</div>"
            ],
            "text/plain": [
              "    Loan_ID Gender Married Dependents     Education Self_Employed  \\\n",
              "0  LP001002   Male      No          0      Graduate            No   \n",
              "1  LP001003   Male     Yes          1      Graduate            No   \n",
              "2  LP001005   Male     Yes          0      Graduate           Yes   \n",
              "3  LP001006   Male     Yes          0  Not Graduate            No   \n",
              "4  LP001008   Male      No          0      Graduate            No   \n",
              "\n",
              "   ApplicantIncome  CoapplicantIncome  LoanAmount  Loan_Amount_Term  \\\n",
              "0             5849                0.0         NaN             360.0   \n",
              "1             4583             1508.0       128.0             360.0   \n",
              "2             3000                0.0        66.0             360.0   \n",
              "3             2583             2358.0       120.0             360.0   \n",
              "4             6000                0.0       141.0             360.0   \n",
              "\n",
              "   Credit_History Property_Area Loan_Status  \n",
              "0             1.0         Urban           Y  \n",
              "1             1.0         Rural           N  \n",
              "2             1.0         Urban           Y  \n",
              "3             1.0         Urban           Y  \n",
              "4             1.0         Urban           Y  "
            ]
          },
          "metadata": {},
          "execution_count": 160
        }
      ]
    },
    {
      "cell_type": "markdown",
      "metadata": {
        "id": "Dz89O7h3BelJ"
      },
      "source": [
        "dataset has 614 sample and 13 features"
      ]
    },
    {
      "cell_type": "code",
      "metadata": {
        "colab": {
          "base_uri": "https://localhost:8080/"
        },
        "id": "hLaWXNZdJDn5",
        "outputId": "c956661b-2f3c-4fe3-873f-316faf33be78"
      },
      "source": [
        "data.shape"
      ],
      "execution_count": null,
      "outputs": [
        {
          "output_type": "execute_result",
          "data": {
            "text/plain": [
              "(614, 13)"
            ]
          },
          "metadata": {},
          "execution_count": 161
        }
      ]
    },
    {
      "cell_type": "code",
      "metadata": {
        "colab": {
          "base_uri": "https://localhost:8080/"
        },
        "id": "o458qCHsJJcX",
        "outputId": "b7139f61-8822-4e32-f604-60fef84eba50"
      },
      "source": [
        "print(data.columns.values)"
      ],
      "execution_count": null,
      "outputs": [
        {
          "output_type": "stream",
          "name": "stdout",
          "text": [
            "['Loan_ID' 'Gender' 'Married' 'Dependents' 'Education' 'Self_Employed'\n",
            " 'ApplicantIncome' 'CoapplicantIncome' 'LoanAmount' 'Loan_Amount_Term'\n",
            " 'Credit_History' 'Property_Area' 'Loan_Status']\n"
          ]
        }
      ]
    },
    {
      "cell_type": "markdown",
      "metadata": {
        "id": "8jgTDbbyYFoU"
      },
      "source": [
        "The information shows we have null and categorical features"
      ]
    },
    {
      "cell_type": "code",
      "metadata": {
        "colab": {
          "base_uri": "https://localhost:8080/"
        },
        "id": "DesCYM3WJTEc",
        "outputId": "233304e6-63c2-4cad-dc42-9957133a8e37"
      },
      "source": [
        "data.info()"
      ],
      "execution_count": null,
      "outputs": [
        {
          "output_type": "stream",
          "name": "stdout",
          "text": [
            "<class 'pandas.core.frame.DataFrame'>\n",
            "RangeIndex: 614 entries, 0 to 613\n",
            "Data columns (total 13 columns):\n",
            " #   Column             Non-Null Count  Dtype  \n",
            "---  ------             --------------  -----  \n",
            " 0   Loan_ID            614 non-null    object \n",
            " 1   Gender             601 non-null    object \n",
            " 2   Married            611 non-null    object \n",
            " 3   Dependents         599 non-null    object \n",
            " 4   Education          614 non-null    object \n",
            " 5   Self_Employed      582 non-null    object \n",
            " 6   ApplicantIncome    614 non-null    int64  \n",
            " 7   CoapplicantIncome  614 non-null    float64\n",
            " 8   LoanAmount         592 non-null    float64\n",
            " 9   Loan_Amount_Term   600 non-null    float64\n",
            " 10  Credit_History     564 non-null    float64\n",
            " 11  Property_Area      614 non-null    object \n",
            " 12  Loan_Status        614 non-null    object \n",
            "dtypes: float64(4), int64(1), object(8)\n",
            "memory usage: 62.5+ KB\n"
          ]
        }
      ]
    },
    {
      "cell_type": "code",
      "metadata": {
        "colab": {
          "base_uri": "https://localhost:8080/",
          "height": 206
        },
        "id": "l_GD93gbJow_",
        "outputId": "4fd3cc52-4490-4306-efdc-1289be09b2c3"
      },
      "source": [
        "data.describe().T"
      ],
      "execution_count": null,
      "outputs": [
        {
          "output_type": "execute_result",
          "data": {
            "text/html": [
              "<div>\n",
              "<style scoped>\n",
              "    .dataframe tbody tr th:only-of-type {\n",
              "        vertical-align: middle;\n",
              "    }\n",
              "\n",
              "    .dataframe tbody tr th {\n",
              "        vertical-align: top;\n",
              "    }\n",
              "\n",
              "    .dataframe thead th {\n",
              "        text-align: right;\n",
              "    }\n",
              "</style>\n",
              "<table border=\"1\" class=\"dataframe\">\n",
              "  <thead>\n",
              "    <tr style=\"text-align: right;\">\n",
              "      <th></th>\n",
              "      <th>count</th>\n",
              "      <th>mean</th>\n",
              "      <th>std</th>\n",
              "      <th>min</th>\n",
              "      <th>25%</th>\n",
              "      <th>50%</th>\n",
              "      <th>75%</th>\n",
              "      <th>max</th>\n",
              "    </tr>\n",
              "  </thead>\n",
              "  <tbody>\n",
              "    <tr>\n",
              "      <th>ApplicantIncome</th>\n",
              "      <td>614.0</td>\n",
              "      <td>5403.459283</td>\n",
              "      <td>6109.041673</td>\n",
              "      <td>150.0</td>\n",
              "      <td>2877.5</td>\n",
              "      <td>3812.5</td>\n",
              "      <td>5795.00</td>\n",
              "      <td>81000.0</td>\n",
              "    </tr>\n",
              "    <tr>\n",
              "      <th>CoapplicantIncome</th>\n",
              "      <td>614.0</td>\n",
              "      <td>1621.245798</td>\n",
              "      <td>2926.248369</td>\n",
              "      <td>0.0</td>\n",
              "      <td>0.0</td>\n",
              "      <td>1188.5</td>\n",
              "      <td>2297.25</td>\n",
              "      <td>41667.0</td>\n",
              "    </tr>\n",
              "    <tr>\n",
              "      <th>LoanAmount</th>\n",
              "      <td>592.0</td>\n",
              "      <td>146.412162</td>\n",
              "      <td>85.587325</td>\n",
              "      <td>9.0</td>\n",
              "      <td>100.0</td>\n",
              "      <td>128.0</td>\n",
              "      <td>168.00</td>\n",
              "      <td>700.0</td>\n",
              "    </tr>\n",
              "    <tr>\n",
              "      <th>Loan_Amount_Term</th>\n",
              "      <td>600.0</td>\n",
              "      <td>342.000000</td>\n",
              "      <td>65.120410</td>\n",
              "      <td>12.0</td>\n",
              "      <td>360.0</td>\n",
              "      <td>360.0</td>\n",
              "      <td>360.00</td>\n",
              "      <td>480.0</td>\n",
              "    </tr>\n",
              "    <tr>\n",
              "      <th>Credit_History</th>\n",
              "      <td>564.0</td>\n",
              "      <td>0.842199</td>\n",
              "      <td>0.364878</td>\n",
              "      <td>0.0</td>\n",
              "      <td>1.0</td>\n",
              "      <td>1.0</td>\n",
              "      <td>1.00</td>\n",
              "      <td>1.0</td>\n",
              "    </tr>\n",
              "  </tbody>\n",
              "</table>\n",
              "</div>"
            ],
            "text/plain": [
              "                   count         mean          std    min     25%     50%  \\\n",
              "ApplicantIncome    614.0  5403.459283  6109.041673  150.0  2877.5  3812.5   \n",
              "CoapplicantIncome  614.0  1621.245798  2926.248369    0.0     0.0  1188.5   \n",
              "LoanAmount         592.0   146.412162    85.587325    9.0   100.0   128.0   \n",
              "Loan_Amount_Term   600.0   342.000000    65.120410   12.0   360.0   360.0   \n",
              "Credit_History     564.0     0.842199     0.364878    0.0     1.0     1.0   \n",
              "\n",
              "                       75%      max  \n",
              "ApplicantIncome    5795.00  81000.0  \n",
              "CoapplicantIncome  2297.25  41667.0  \n",
              "LoanAmount          168.00    700.0  \n",
              "Loan_Amount_Term    360.00    480.0  \n",
              "Credit_History        1.00      1.0  "
            ]
          },
          "metadata": {},
          "execution_count": 164
        }
      ]
    },
    {
      "cell_type": "code",
      "metadata": {
        "colab": {
          "base_uri": "https://localhost:8080/",
          "height": 300
        },
        "id": "QhsfXJ3NJo7t",
        "outputId": "f1b411db-c7d1-4b8a-a870-707c29cb3d57"
      },
      "source": [
        "data.describe(include='O').T"
      ],
      "execution_count": null,
      "outputs": [
        {
          "output_type": "execute_result",
          "data": {
            "text/html": [
              "<div>\n",
              "<style scoped>\n",
              "    .dataframe tbody tr th:only-of-type {\n",
              "        vertical-align: middle;\n",
              "    }\n",
              "\n",
              "    .dataframe tbody tr th {\n",
              "        vertical-align: top;\n",
              "    }\n",
              "\n",
              "    .dataframe thead th {\n",
              "        text-align: right;\n",
              "    }\n",
              "</style>\n",
              "<table border=\"1\" class=\"dataframe\">\n",
              "  <thead>\n",
              "    <tr style=\"text-align: right;\">\n",
              "      <th></th>\n",
              "      <th>count</th>\n",
              "      <th>unique</th>\n",
              "      <th>top</th>\n",
              "      <th>freq</th>\n",
              "    </tr>\n",
              "  </thead>\n",
              "  <tbody>\n",
              "    <tr>\n",
              "      <th>Loan_ID</th>\n",
              "      <td>614</td>\n",
              "      <td>614</td>\n",
              "      <td>LP002224</td>\n",
              "      <td>1</td>\n",
              "    </tr>\n",
              "    <tr>\n",
              "      <th>Gender</th>\n",
              "      <td>601</td>\n",
              "      <td>2</td>\n",
              "      <td>Male</td>\n",
              "      <td>489</td>\n",
              "    </tr>\n",
              "    <tr>\n",
              "      <th>Married</th>\n",
              "      <td>611</td>\n",
              "      <td>2</td>\n",
              "      <td>Yes</td>\n",
              "      <td>398</td>\n",
              "    </tr>\n",
              "    <tr>\n",
              "      <th>Dependents</th>\n",
              "      <td>599</td>\n",
              "      <td>4</td>\n",
              "      <td>0</td>\n",
              "      <td>345</td>\n",
              "    </tr>\n",
              "    <tr>\n",
              "      <th>Education</th>\n",
              "      <td>614</td>\n",
              "      <td>2</td>\n",
              "      <td>Graduate</td>\n",
              "      <td>480</td>\n",
              "    </tr>\n",
              "    <tr>\n",
              "      <th>Self_Employed</th>\n",
              "      <td>582</td>\n",
              "      <td>2</td>\n",
              "      <td>No</td>\n",
              "      <td>500</td>\n",
              "    </tr>\n",
              "    <tr>\n",
              "      <th>Property_Area</th>\n",
              "      <td>614</td>\n",
              "      <td>3</td>\n",
              "      <td>Semiurban</td>\n",
              "      <td>233</td>\n",
              "    </tr>\n",
              "    <tr>\n",
              "      <th>Loan_Status</th>\n",
              "      <td>614</td>\n",
              "      <td>2</td>\n",
              "      <td>Y</td>\n",
              "      <td>422</td>\n",
              "    </tr>\n",
              "  </tbody>\n",
              "</table>\n",
              "</div>"
            ],
            "text/plain": [
              "              count unique        top freq\n",
              "Loan_ID         614    614   LP002224    1\n",
              "Gender          601      2       Male  489\n",
              "Married         611      2        Yes  398\n",
              "Dependents      599      4          0  345\n",
              "Education       614      2   Graduate  480\n",
              "Self_Employed   582      2         No  500\n",
              "Property_Area   614      3  Semiurban  233\n",
              "Loan_Status     614      2          Y  422"
            ]
          },
          "metadata": {},
          "execution_count": 165
        }
      ]
    },
    {
      "cell_type": "markdown",
      "metadata": {
        "id": "4cHm2mDKBqL0"
      },
      "source": [
        "dataset is imbalance so we should handle it"
      ]
    },
    {
      "cell_type": "code",
      "metadata": {
        "colab": {
          "base_uri": "https://localhost:8080/"
        },
        "id": "lpMhW5gXKKtP",
        "outputId": "9a3d5423-d6ab-40a1-ccd7-f748afd8c600"
      },
      "source": [
        "data['Loan_Status'].value_counts()"
      ],
      "execution_count": null,
      "outputs": [
        {
          "output_type": "execute_result",
          "data": {
            "text/plain": [
              "Y    422\n",
              "N    192\n",
              "Name: Loan_Status, dtype: int64"
            ]
          },
          "metadata": {},
          "execution_count": 166
        }
      ]
    },
    {
      "cell_type": "code",
      "metadata": {
        "colab": {
          "base_uri": "https://localhost:8080/"
        },
        "id": "g1RiF1TfJimE",
        "outputId": "b8156ed7-3b96-47be-c138-e3b74970b286"
      },
      "source": [
        "data.apply(lambda x:x.nunique())"
      ],
      "execution_count": null,
      "outputs": [
        {
          "output_type": "execute_result",
          "data": {
            "text/plain": [
              "Loan_ID              614\n",
              "Gender                 2\n",
              "Married                2\n",
              "Dependents             4\n",
              "Education              2\n",
              "Self_Employed          2\n",
              "ApplicantIncome      505\n",
              "CoapplicantIncome    287\n",
              "LoanAmount           203\n",
              "Loan_Amount_Term      10\n",
              "Credit_History         2\n",
              "Property_Area          3\n",
              "Loan_Status            2\n",
              "dtype: int64"
            ]
          },
          "metadata": {},
          "execution_count": 167
        }
      ]
    },
    {
      "cell_type": "markdown",
      "metadata": {
        "id": "0mYakI7sZVDO"
      },
      "source": [
        "## Exploratory Data Analysis\n",
        "\n",
        "\n",
        "1.   Missing values\n",
        "2.   Numerical\n",
        "2.   Outlier\n",
        "3.   Categorical\n",
        "5.   Imbalance dataset\n",
        "6.   Correration"
      ]
    },
    {
      "cell_type": "markdown",
      "metadata": {
        "id": "k0tl9dGRZv3q"
      },
      "source": [
        "### 1. Missing values\n",
        "7 features include missing values."
      ]
    },
    {
      "cell_type": "code",
      "metadata": {
        "id": "-VUwLFSFZvSL",
        "colab": {
          "base_uri": "https://localhost:8080/"
        },
        "outputId": "9dfc8e93-788a-4b86-fc3a-30cfc026bd04"
      },
      "source": [
        "data.isnull().mean()*100"
      ],
      "execution_count": null,
      "outputs": [
        {
          "output_type": "execute_result",
          "data": {
            "text/plain": [
              "Loan_ID              0.000000\n",
              "Gender               2.117264\n",
              "Married              0.488599\n",
              "Dependents           2.442997\n",
              "Education            0.000000\n",
              "Self_Employed        5.211726\n",
              "ApplicantIncome      0.000000\n",
              "CoapplicantIncome    0.000000\n",
              "LoanAmount           3.583062\n",
              "Loan_Amount_Term     2.280130\n",
              "Credit_History       8.143322\n",
              "Property_Area        0.000000\n",
              "Loan_Status          0.000000\n",
              "dtype: float64"
            ]
          },
          "metadata": {},
          "execution_count": 168
        }
      ]
    },
    {
      "cell_type": "markdown",
      "metadata": {
        "id": "pfgX5C7maJ2Z"
      },
      "source": [
        "## 2. Numerical Features\n",
        "-\ttemporal\n",
        "- discrete\n",
        "-continuous"
      ]
    },
    {
      "cell_type": "markdown",
      "metadata": {
        "id": "qoJmLaAlIK14"
      },
      "source": [
        "there are 5 numerical features"
      ]
    },
    {
      "cell_type": "code",
      "metadata": {
        "colab": {
          "base_uri": "https://localhost:8080/"
        },
        "id": "jLvuAXdXZiKj",
        "outputId": "c2a2a682-95c2-4f5f-af59-11f862b55f98"
      },
      "source": [
        "numerical_features = data.select_dtypes(exclude='object')\n",
        "print( numerical_features.columns)\n",
        "print(\"===============================================\")\n",
        "print('number of Numerical features: {}'.format(len(numerical_features.columns)))"
      ],
      "execution_count": null,
      "outputs": [
        {
          "output_type": "stream",
          "name": "stdout",
          "text": [
            "Index(['ApplicantIncome', 'CoapplicantIncome', 'LoanAmount',\n",
            "       'Loan_Amount_Term', 'Credit_History'],\n",
            "      dtype='object')\n",
            "===============================================\n",
            "number of Numerical features: 5\n"
          ]
        }
      ]
    },
    {
      "cell_type": "markdown",
      "metadata": {
        "id": "SLtmtREFchOQ"
      },
      "source": [
        "### temporal"
      ]
    },
    {
      "cell_type": "code",
      "metadata": {
        "colab": {
          "base_uri": "https://localhost:8080/"
        },
        "id": "CJffJtyRaP8Y",
        "outputId": "e62253b3-05f1-488f-9ff6-25e577415f3d"
      },
      "source": [
        "temporal_val = data.select_dtypes(include='datetime64')\n",
        "print(temporal_val.columns)\n",
        "print(\"===============================================\")\n",
        "print('Number of temporal features: {}'.format(len(temporal_val.columns)))"
      ],
      "execution_count": null,
      "outputs": [
        {
          "output_type": "stream",
          "name": "stdout",
          "text": [
            "Index([], dtype='object')\n",
            "===============================================\n",
            "Number of temporal features: 0\n"
          ]
        }
      ]
    },
    {
      "cell_type": "markdown",
      "metadata": {
        "id": "_gWX-UX6cleJ"
      },
      "source": [
        "### Discrete"
      ]
    },
    {
      "cell_type": "code",
      "metadata": {
        "colab": {
          "base_uri": "https://localhost:8080/"
        },
        "id": "klxyJXVkahUI",
        "outputId": "23c3e050-ea3d-4617-9b42-8da7bd721abc"
      },
      "source": [
        "discrete_val =  data.select_dtypes(include='int64')\n",
        "print(discrete_val.columns) \n",
        "print(\"===============================================\")\n",
        "print('Number of discrete features : {}'.format(len(discrete_val.columns)))"
      ],
      "execution_count": null,
      "outputs": [
        {
          "output_type": "stream",
          "name": "stdout",
          "text": [
            "Index(['ApplicantIncome'], dtype='object')\n",
            "===============================================\n",
            "Number of discrete features : 1\n"
          ]
        }
      ]
    },
    {
      "cell_type": "markdown",
      "metadata": {
        "id": "qPKCGB_bcX95"
      },
      "source": [
        "### Continuous"
      ]
    },
    {
      "cell_type": "code",
      "metadata": {
        "colab": {
          "base_uri": "https://localhost:8080/"
        },
        "id": "AiUykOgNcXWp",
        "outputId": "08f988a1-d393-4328-f09f-303f3b1bb30f"
      },
      "source": [
        "continuous_val =  data.select_dtypes(include='float64')\n",
        "print(continuous_val.columns) \n",
        "print(\"===============================================\")\n",
        "print('Number of discrete features : {}'.format(len(continuous_val.columns)))"
      ],
      "execution_count": null,
      "outputs": [
        {
          "output_type": "stream",
          "name": "stdout",
          "text": [
            "Index(['CoapplicantIncome', 'LoanAmount', 'Loan_Amount_Term',\n",
            "       'Credit_History'],\n",
            "      dtype='object')\n",
            "===============================================\n",
            "Number of discrete features : 4\n"
          ]
        }
      ]
    },
    {
      "cell_type": "markdown",
      "metadata": {
        "id": "IatwaDppdN7P"
      },
      "source": [
        "## Univariate"
      ]
    },
    {
      "cell_type": "code",
      "metadata": {
        "colab": {
          "base_uri": "https://localhost:8080/",
          "height": 585
        },
        "id": "8XEjLU4DdW6Q",
        "outputId": "eacd4a2a-5abf-41bd-d4c2-b80f1d157d5f"
      },
      "source": [
        "# Histogram plot\n",
        "fig,axes = plt.subplots(figsize=(12,8))\n",
        "axes.grid(False)\n",
        "axes.set_yticklabels([])\n",
        "axes.set_xticklabels([])\n",
        "for idx,num_col in enumerate(numerical_features):\n",
        "    fig.add_subplot(3, 2, idx+1)\n",
        "    sns.distplot(data[num_col], kde=False, bins=20)\n",
        "    fig.tight_layout()"
      ],
      "execution_count": null,
      "outputs": [
        {
          "output_type": "display_data",
          "data": {
            "image/png": "[encoded data removed]",
            "text/plain": [
              "<Figure size 864x576 with 6 Axes>"
            ]
          },
          "metadata": {
            "needs_background": "light"
          }
        }
      ]
    },
    {
      "cell_type": "markdown",
      "metadata": {
        "id": "JCJQrJ_Fg6M8"
      },
      "source": [
        "## Bivariate"
      ]
    },
    {
      "cell_type": "code",
      "metadata": {
        "colab": {
          "base_uri": "https://localhost:8080/",
          "height": 1000
        },
        "id": "fmrH6D0Og9Ta",
        "outputId": "5381bf6d-7c3c-4485-9080-fefd339bd3ec"
      },
      "source": [
        "for num_col in numerical_features:\n",
        "  g = sns.FacetGrid(data, col='Loan_Status')\n",
        "  g.map(plt.hist, num_col, bins=10)"
      ],
      "execution_count": null,
      "outputs": [
        {
          "output_type": "display_data",
          "data": {
            "image/png": "[encoded data removed]",
            "text/plain": [
              "<Figure size 432x216 with 2 Axes>"
            ]
          },
          "metadata": {
            "needs_background": "light"
          }
        },
        {
          "output_type": "display_data",
          "data": {
            "image/png": "[encoded data removed]",
            "text/plain": [
              "<Figure size 432x216 with 2 Axes>"
            ]
          },
          "metadata": {
            "needs_background": "light"
          }
        },
        {
          "output_type": "display_data",
          "data": {
            "image/png": "[encoded data removed]",
            "text/plain": [
              "<Figure size 432x216 with 2 Axes>"
            ]
          },
          "metadata": {
            "needs_background": "light"
          }
        },
        {
          "output_type": "display_data",
          "data": {
            "image/png": "[encoded data removed]",
            "text/plain": [
              "<Figure size 432x216 with 2 Axes>"
            ]
          },
          "metadata": {
            "needs_background": "light"
          }
        },
        {
          "output_type": "display_data",
          "data": {
            "image/png": "[encoded data removed]",
            "text/plain": [
              "<Figure size 432x216 with 2 Axes>"
            ]
          },
          "metadata": {
            "needs_background": "light"
          }
        }
      ]
    },
    {
      "cell_type": "markdown",
      "metadata": {
        "id": "wM9JY5E8gcB_"
      },
      "source": [
        "## 3. OUTLIER"
      ]
    },
    {
      "cell_type": "markdown",
      "metadata": {
        "id": "Gk-6c_IiC_nO"
      },
      "source": [
        "Numerical features have outlier. if it is neccessary, we can handle them"
      ]
    },
    {
      "cell_type": "code",
      "metadata": {
        "colab": {
          "base_uri": "https://localhost:8080/",
          "height": 445
        },
        "id": "1QVnPvovgWOu",
        "outputId": "4d1bc166-e7da-4c4c-9b4e-b930c6eb2049"
      },
      "source": [
        "# Histogram plot\n",
        "fig = plt.figure(figsize=(10,10))\n",
        "for index,col in enumerate(numerical_features):\n",
        "    plt.subplot(5,2,index+1)\n",
        "    sns.boxplot(data=numerical_features.dropna(), y=col)\n",
        "fig.tight_layout(pad=1.0)"
      ],
      "execution_count": null,
      "outputs": [
        {
          "output_type": "display_data",
          "data": {
            "image/png": "[encoded data removed]",
            "text/plain": [
              "<Figure size 720x720 with 5 Axes>"
            ]
          },
          "metadata": {
            "needs_background": "light"
          }
        }
      ]
    },
    {
      "cell_type": "markdown",
      "metadata": {
        "id": "OLBd0_Ogh4qZ"
      },
      "source": [
        "## 4. Categorical Features"
      ]
    },
    {
      "cell_type": "markdown",
      "metadata": {
        "id": "MkMfzQGvIwIq"
      },
      "source": [
        "There are 8 categorical features one of them is target value and the other is loan_id which can drop from categorical values"
      ]
    },
    {
      "cell_type": "code",
      "metadata": {
        "colab": {
          "base_uri": "https://localhost:8080/"
        },
        "id": "F356GLgch517",
        "outputId": "9b824b12-0d40-46bd-f147-821ad111b1bb"
      },
      "source": [
        "categorical_features = data.select_dtypes(include='object')\n",
        "print(categorical_features.columns)\n",
        "print('===============================================')\n",
        "print('number of categorical features: {}'.format(len(categorical_features.columns)))"
      ],
      "execution_count": null,
      "outputs": [
        {
          "output_type": "stream",
          "name": "stdout",
          "text": [
            "Index(['Loan_ID', 'Gender', 'Married', 'Dependents', 'Education',\n",
            "       'Self_Employed', 'Property_Area', 'Loan_Status'],\n",
            "      dtype='object')\n",
            "===============================================\n",
            "number of categorical features: 8\n"
          ]
        }
      ]
    },
    {
      "cell_type": "code",
      "metadata": {
        "id": "eqvPMJexiDvA"
      },
      "source": [
        "categorical_features = categorical_features.drop(['Loan_Status','Loan_ID'], axis=1)"
      ],
      "execution_count": null,
      "outputs": []
    },
    {
      "cell_type": "markdown",
      "metadata": {
        "id": "ZISqCRyviTHr"
      },
      "source": [
        "### Univarite"
      ]
    },
    {
      "cell_type": "code",
      "metadata": {
        "colab": {
          "base_uri": "https://localhost:8080/",
          "height": 585
        },
        "id": "g5zhb4PmiQS0",
        "outputId": "a43cc2b5-ff38-4198-ee80-286b71535922"
      },
      "source": [
        "fig,axes = plt.subplots(figsize=(12,8))\n",
        "rgb_values = sns.color_palette(\"Set2\", 6)\n",
        "axes.grid(False)\n",
        "axes.set_yticklabels([])\n",
        "axes.set_xticklabels([])\n",
        "for idx,cat_col in enumerate(categorical_features): \n",
        "    fig.add_subplot(3, 2, idx+1)\n",
        "    sns.countplot(x=cat_col, data=data, palette=rgb_values)\n",
        "    fig.tight_layout()"
      ],
      "execution_count": null,
      "outputs": [
        {
          "output_type": "display_data",
          "data": {
            "image/png": "[encoded data removed]",
            "text/plain": [
              "<Figure size 864x576 with 7 Axes>"
            ]
          },
          "metadata": {
            "needs_background": "light"
          }
        }
      ]
    },
    {
      "cell_type": "markdown",
      "metadata": {
        "id": "cABtxbQ1v4Zu"
      },
      "source": [
        "### Bivariate"
      ]
    },
    {
      "cell_type": "code",
      "metadata": {
        "id": "oxs6jHfRv3rC",
        "colab": {
          "base_uri": "https://localhost:8080/",
          "height": 585
        },
        "outputId": "48be31c0-0d73-4d62-dc84-45e5238faa50"
      },
      "source": [
        "fig,axes = plt.subplots(figsize=(12,8))\n",
        "axes.grid(False)\n",
        "axes.set_yticklabels([])\n",
        "axes.set_xticklabels([])\n",
        "for idx,cat_col in enumerate(categorical_features):\n",
        "    fig.add_subplot(3, 2, idx+1)\n",
        "    sns.countplot(x=data[cat_col],data=data,hue='Loan_Status')\n",
        "    fig.tight_layout()"
      ],
      "execution_count": null,
      "outputs": [
        {
          "output_type": "display_data",
          "data": {
            "image/png": "[encoded data removed]",
            "text/plain": [
              "<Figure size 864x576 with 7 Axes>"
            ]
          },
          "metadata": {
            "needs_background": "light"
          }
        }
      ]
    },
    {
      "cell_type": "markdown",
      "metadata": {
        "id": "q6uu_oD7vncX"
      },
      "source": [
        "## 5. Imbalance dataset\n",
        "Target value is imbalance before making model we can handle it "
      ]
    },
    {
      "cell_type": "code",
      "metadata": {
        "id": "mK_QzELRvm6r",
        "colab": {
          "base_uri": "https://localhost:8080/"
        },
        "outputId": "553eb5c7-3bb9-4f71-d094-39db287f5688"
      },
      "source": [
        "#control the percent of target values\n",
        "data['Loan_Status'].value_counts(normalize=True)"
      ],
      "execution_count": null,
      "outputs": [
        {
          "output_type": "execute_result",
          "data": {
            "text/plain": [
              "Y    0.687296\n",
              "N    0.312704\n",
              "Name: Loan_Status, dtype: float64"
            ]
          },
          "metadata": {},
          "execution_count": 180
        }
      ]
    },
    {
      "cell_type": "code",
      "metadata": {
        "id": "59KZAQSDwJk0",
        "colab": {
          "base_uri": "https://localhost:8080/",
          "height": 298
        },
        "outputId": "648599b4-d69d-49c7-ea07-0383ecaf5dcf"
      },
      "source": [
        "# plot target value\n",
        "sns.countplot(x='Loan_Status', data=data)"
      ],
      "execution_count": null,
      "outputs": [
        {
          "output_type": "execute_result",
          "data": {
            "text/plain": [
              "<matplotlib.axes._subplots.AxesSubplot at 0x7fcbeb6a9e90>"
            ]
          },
          "metadata": {},
          "execution_count": 181
        },
        {
          "output_type": "display_data",
          "data": {
            "image/png": "[encoded data removed]",
            "text/plain": [
              "<Figure size 432x288 with 1 Axes>"
            ]
          },
          "metadata": {
            "needs_background": "light"
          }
        }
      ]
    },
    {
      "cell_type": "markdown",
      "metadata": {
        "id": "EPkIExKBwP3k"
      },
      "source": [
        "## 6.Features correlation"
      ]
    },
    {
      "cell_type": "code",
      "metadata": {
        "id": "lFQyDhemwT5-",
        "colab": {
          "base_uri": "https://localhost:8080/",
          "height": 596
        },
        "outputId": "6351ce37-f06a-4235-d874-f15512f7904a"
      },
      "source": [
        "plt.figure(figsize=(12,10))\n",
        "cor = data.corr()\n",
        "sns.heatmap(cor, annot=True, cmap=plt.cm.Greens)\n",
        "plt.show()"
      ],
      "execution_count": null,
      "outputs": [
        {
          "output_type": "display_data",
          "data": {
            "image/png": "[encoded data removed]",
            "text/plain": [
              "<Figure size 864x720 with 2 Axes>"
            ]
          },
          "metadata": {
            "needs_background": "light"
          }
        }
      ]
    },
    {
      "cell_type": "markdown",
      "metadata": {
        "id": "EIbiJv2kwaYu"
      },
      "source": [
        "# Preprocess\n",
        "\n",
        "\n",
        "1.   Handling missing values\n",
        "2.   Handling Outlier\n",
        "3.   Handling Categorical features\n",
        "5.   Feature Engineering\n",
        "4.   Transformaton\n",
        "\n"
      ]
    },
    {
      "cell_type": "markdown",
      "metadata": {
        "id": "Me5r7TUNNCFH"
      },
      "source": [
        "## 1. Handling missing values"
      ]
    },
    {
      "cell_type": "code",
      "metadata": {
        "id": "pGMMIzPqwc59",
        "colab": {
          "base_uri": "https://localhost:8080/"
        },
        "outputId": "01fe70ca-7716-4272-eed9-a733f9d161b4"
      },
      "source": [
        "data.isnull().mean()*100"
      ],
      "execution_count": null,
      "outputs": [
        {
          "output_type": "execute_result",
          "data": {
            "text/plain": [
              "Loan_ID              0.000000\n",
              "Gender               2.117264\n",
              "Married              0.488599\n",
              "Dependents           2.442997\n",
              "Education            0.000000\n",
              "Self_Employed        5.211726\n",
              "ApplicantIncome      0.000000\n",
              "CoapplicantIncome    0.000000\n",
              "LoanAmount           3.583062\n",
              "Loan_Amount_Term     2.280130\n",
              "Credit_History       8.143322\n",
              "Property_Area        0.000000\n",
              "Loan_Status          0.000000\n",
              "dtype: float64"
            ]
          },
          "metadata": {},
          "execution_count": 183
        }
      ]
    },
    {
      "cell_type": "markdown",
      "metadata": {
        "id": "0L5ZdORzOVMl"
      },
      "source": [
        "### Handling continuous missing values with mean value"
      ]
    },
    {
      "cell_type": "code",
      "metadata": {
        "id": "lmyF_5_nOVX6"
      },
      "source": [
        "for feature in numerical_features.isnull():\n",
        "    data[feature].fillna(data[feature].mean(), inplace=True)"
      ],
      "execution_count": null,
      "outputs": []
    },
    {
      "cell_type": "markdown",
      "metadata": {
        "id": "i18PdGtsOPuW"
      },
      "source": [
        "### Handling categorical missing values with mode"
      ]
    },
    {
      "cell_type": "code",
      "metadata": {
        "id": "3umABi4cNQGk"
      },
      "source": [
        "for feature in categorical_features.isnull():\n",
        "    data[feature].fillna(data[feature].mode()[0], inplace=True)"
      ],
      "execution_count": null,
      "outputs": []
    },
    {
      "cell_type": "markdown",
      "metadata": {
        "id": "CBm6OSJyO_qt"
      },
      "source": [
        "## 2. Handling Outlier"
      ]
    },
    {
      "cell_type": "markdown",
      "metadata": {
        "id": "WD2xXBKbJNlL"
      },
      "source": [
        "It is not neccessary to handle outlier because they are part of normal condition"
      ]
    },
    {
      "cell_type": "code",
      "metadata": {
        "id": "BS7wJm8mPPOv"
      },
      "source": [
        "skewed_features =['ApplicantIncome','CoapplicantIncome', 'LoanAmount', 'Loan_Amount_Term','Credit_History']"
      ],
      "execution_count": null,
      "outputs": []
    },
    {
      "cell_type": "code",
      "metadata": {
        "id": "H4WQv1l-PAz1"
      },
      "source": [
        "def low_upper_band(X_data, feature):\n",
        "           #### Lets compute the Interquantile range to calculate the boundaries\n",
        "           IQR=data[feature].quantile(0.75)-data[feature].quantile(0.25)\n",
        "           #### Extreme outliers\n",
        "           lower_bridge=data[feature].quantile(0.25)-(IQR*3)\n",
        "           upper_bridge=data[feature].quantile(0.75)+(IQR*3)\n",
        "           return lower_bridge, upper_bridge"
      ],
      "execution_count": null,
      "outputs": []
    },
    {
      "cell_type": "code",
      "metadata": {
        "colab": {
          "base_uri": "https://localhost:8080/"
        },
        "id": "9mhTe4tQPF_k",
        "outputId": "6e366049-424f-4bbb-f5fb-410d17acef50"
      },
      "source": [
        "for feature in skewed_features:\n",
        "  print(feature,':', low_upper_band(data, feature ))"
      ],
      "execution_count": null,
      "outputs": [
        {
          "output_type": "stream",
          "name": "stdout",
          "text": [
            "ApplicantIncome : (-5875.0, 14547.5)\n",
            "CoapplicantIncome : (-6891.75, 9189.0)\n",
            "LoanAmount : (-93.25, 358.25)\n",
            "Loan_Amount_Term : (360.0, 360.0)\n",
            "Credit_History : (1.0, 1.0)\n"
          ]
        }
      ]
    },
    {
      "cell_type": "code",
      "metadata": {
        "colab": {
          "base_uri": "https://localhost:8080/",
          "height": 300
        },
        "id": "eUcqChocPwtK",
        "outputId": "c0e49007-e3df-4841-b890-105d17e866ed"
      },
      "source": [
        "data.describe()"
      ],
      "execution_count": null,
      "outputs": [
        {
          "output_type": "execute_result",
          "data": {
            "text/html": [
              "<div>\n",
              "<style scoped>\n",
              "    .dataframe tbody tr th:only-of-type {\n",
              "        vertical-align: middle;\n",
              "    }\n",
              "\n",
              "    .dataframe tbody tr th {\n",
              "        vertical-align: top;\n",
              "    }\n",
              "\n",
              "    .dataframe thead th {\n",
              "        text-align: right;\n",
              "    }\n",
              "</style>\n",
              "<table border=\"1\" class=\"dataframe\">\n",
              "  <thead>\n",
              "    <tr style=\"text-align: right;\">\n",
              "      <th></th>\n",
              "      <th>ApplicantIncome</th>\n",
              "      <th>CoapplicantIncome</th>\n",
              "      <th>LoanAmount</th>\n",
              "      <th>Loan_Amount_Term</th>\n",
              "      <th>Credit_History</th>\n",
              "    </tr>\n",
              "  </thead>\n",
              "  <tbody>\n",
              "    <tr>\n",
              "      <th>count</th>\n",
              "      <td>614.000000</td>\n",
              "      <td>614.000000</td>\n",
              "      <td>614.000000</td>\n",
              "      <td>614.000000</td>\n",
              "      <td>614.000000</td>\n",
              "    </tr>\n",
              "    <tr>\n",
              "      <th>mean</th>\n",
              "      <td>5403.459283</td>\n",
              "      <td>1621.245798</td>\n",
              "      <td>146.412162</td>\n",
              "      <td>342.000000</td>\n",
              "      <td>0.842199</td>\n",
              "    </tr>\n",
              "    <tr>\n",
              "      <th>std</th>\n",
              "      <td>6109.041673</td>\n",
              "      <td>2926.248369</td>\n",
              "      <td>84.037468</td>\n",
              "      <td>64.372489</td>\n",
              "      <td>0.349681</td>\n",
              "    </tr>\n",
              "    <tr>\n",
              "      <th>min</th>\n",
              "      <td>150.000000</td>\n",
              "      <td>0.000000</td>\n",
              "      <td>9.000000</td>\n",
              "      <td>12.000000</td>\n",
              "      <td>0.000000</td>\n",
              "    </tr>\n",
              "    <tr>\n",
              "      <th>25%</th>\n",
              "      <td>2877.500000</td>\n",
              "      <td>0.000000</td>\n",
              "      <td>100.250000</td>\n",
              "      <td>360.000000</td>\n",
              "      <td>1.000000</td>\n",
              "    </tr>\n",
              "    <tr>\n",
              "      <th>50%</th>\n",
              "      <td>3812.500000</td>\n",
              "      <td>1188.500000</td>\n",
              "      <td>129.000000</td>\n",
              "      <td>360.000000</td>\n",
              "      <td>1.000000</td>\n",
              "    </tr>\n",
              "    <tr>\n",
              "      <th>75%</th>\n",
              "      <td>5795.000000</td>\n",
              "      <td>2297.250000</td>\n",
              "      <td>164.750000</td>\n",
              "      <td>360.000000</td>\n",
              "      <td>1.000000</td>\n",
              "    </tr>\n",
              "    <tr>\n",
              "      <th>max</th>\n",
              "      <td>81000.000000</td>\n",
              "      <td>41667.000000</td>\n",
              "      <td>700.000000</td>\n",
              "      <td>480.000000</td>\n",
              "      <td>1.000000</td>\n",
              "    </tr>\n",
              "  </tbody>\n",
              "</table>\n",
              "</div>"
            ],
            "text/plain": [
              "       ApplicantIncome  CoapplicantIncome  LoanAmount  Loan_Amount_Term  \\\n",
              "count       614.000000         614.000000  614.000000        614.000000   \n",
              "mean       5403.459283        1621.245798  146.412162        342.000000   \n",
              "std        6109.041673        2926.248369   84.037468         64.372489   \n",
              "min         150.000000           0.000000    9.000000         12.000000   \n",
              "25%        2877.500000           0.000000  100.250000        360.000000   \n",
              "50%        3812.500000        1188.500000  129.000000        360.000000   \n",
              "75%        5795.000000        2297.250000  164.750000        360.000000   \n",
              "max       81000.000000       41667.000000  700.000000        480.000000   \n",
              "\n",
              "       Credit_History  \n",
              "count      614.000000  \n",
              "mean         0.842199  \n",
              "std          0.349681  \n",
              "min          0.000000  \n",
              "25%          1.000000  \n",
              "50%          1.000000  \n",
              "75%          1.000000  \n",
              "max          1.000000  "
            ]
          },
          "metadata": {},
          "execution_count": 189
        }
      ]
    },
    {
      "cell_type": "markdown",
      "metadata": {
        "id": "dHzVpBEtRyX-"
      },
      "source": [
        "## 3.Handling Categorical features"
      ]
    },
    {
      "cell_type": "code",
      "metadata": {
        "colab": {
          "base_uri": "https://localhost:8080/"
        },
        "id": "FpL99t1ORzVS",
        "outputId": "3771b4d8-48aa-427d-9cdb-1e2420c1f75a"
      },
      "source": [
        "categorical_features.apply(lambda x:x.nunique())"
      ],
      "execution_count": null,
      "outputs": [
        {
          "output_type": "execute_result",
          "data": {
            "text/plain": [
              "Gender           2\n",
              "Married          2\n",
              "Dependents       4\n",
              "Education        2\n",
              "Self_Employed    2\n",
              "Property_Area    3\n",
              "dtype: int64"
            ]
          },
          "metadata": {},
          "execution_count": 190
        }
      ]
    },
    {
      "cell_type": "code",
      "metadata": {
        "id": "an98_IeUR48F"
      },
      "source": [
        "data = pd.get_dummies(data, columns=categorical_features.columns, drop_first=True)"
      ],
      "execution_count": null,
      "outputs": []
    },
    {
      "cell_type": "code",
      "metadata": {
        "colab": {
          "base_uri": "https://localhost:8080/",
          "height": 244
        },
        "id": "Ubc4xdkdR_yx",
        "outputId": "141b5bb8-6d1a-4a12-c2ff-b48ba1ee6ef6"
      },
      "source": [
        "data.head()"
      ],
      "execution_count": null,
      "outputs": [
        {
          "output_type": "execute_result",
          "data": {
            "text/html": [
              "<div>\n",
              "<style scoped>\n",
              "    .dataframe tbody tr th:only-of-type {\n",
              "        vertical-align: middle;\n",
              "    }\n",
              "\n",
              "    .dataframe tbody tr th {\n",
              "        vertical-align: top;\n",
              "    }\n",
              "\n",
              "    .dataframe thead th {\n",
              "        text-align: right;\n",
              "    }\n",
              "</style>\n",
              "<table border=\"1\" class=\"dataframe\">\n",
              "  <thead>\n",
              "    <tr style=\"text-align: right;\">\n",
              "      <th></th>\n",
              "      <th>Loan_ID</th>\n",
              "      <th>ApplicantIncome</th>\n",
              "      <th>CoapplicantIncome</th>\n",
              "      <th>LoanAmount</th>\n",
              "      <th>Loan_Amount_Term</th>\n",
              "      <th>Credit_History</th>\n",
              "      <th>Loan_Status</th>\n",
              "      <th>Gender_Male</th>\n",
              "      <th>Married_Yes</th>\n",
              "      <th>Dependents_1</th>\n",
              "      <th>Dependents_2</th>\n",
              "      <th>Dependents_3+</th>\n",
              "      <th>Education_Not Graduate</th>\n",
              "      <th>Self_Employed_Yes</th>\n",
              "      <th>Property_Area_Semiurban</th>\n",
              "      <th>Property_Area_Urban</th>\n",
              "    </tr>\n",
              "  </thead>\n",
              "  <tbody>\n",
              "    <tr>\n",
              "      <th>0</th>\n",
              "      <td>LP001002</td>\n",
              "      <td>5849</td>\n",
              "      <td>0.0</td>\n",
              "      <td>146.412162</td>\n",
              "      <td>360.0</td>\n",
              "      <td>1.0</td>\n",
              "      <td>Y</td>\n",
              "      <td>1</td>\n",
              "      <td>0</td>\n",
              "      <td>0</td>\n",
              "      <td>0</td>\n",
              "      <td>0</td>\n",
              "      <td>0</td>\n",
              "      <td>0</td>\n",
              "      <td>0</td>\n",
              "      <td>1</td>\n",
              "    </tr>\n",
              "    <tr>\n",
              "      <th>1</th>\n",
              "      <td>LP001003</td>\n",
              "      <td>4583</td>\n",
              "      <td>1508.0</td>\n",
              "      <td>128.000000</td>\n",
              "      <td>360.0</td>\n",
              "      <td>1.0</td>\n",
              "      <td>N</td>\n",
              "      <td>1</td>\n",
              "      <td>1</td>\n",
              "      <td>1</td>\n",
              "      <td>0</td>\n",
              "      <td>0</td>\n",
              "      <td>0</td>\n",
              "      <td>0</td>\n",
              "      <td>0</td>\n",
              "      <td>0</td>\n",
              "    </tr>\n",
              "    <tr>\n",
              "      <th>2</th>\n",
              "      <td>LP001005</td>\n",
              "      <td>3000</td>\n",
              "      <td>0.0</td>\n",
              "      <td>66.000000</td>\n",
              "      <td>360.0</td>\n",
              "      <td>1.0</td>\n",
              "      <td>Y</td>\n",
              "      <td>1</td>\n",
              "      <td>1</td>\n",
              "      <td>0</td>\n",
              "      <td>0</td>\n",
              "      <td>0</td>\n",
              "      <td>0</td>\n",
              "      <td>1</td>\n",
              "      <td>0</td>\n",
              "      <td>1</td>\n",
              "    </tr>\n",
              "    <tr>\n",
              "      <th>3</th>\n",
              "      <td>LP001006</td>\n",
              "      <td>2583</td>\n",
              "      <td>2358.0</td>\n",
              "      <td>120.000000</td>\n",
              "      <td>360.0</td>\n",
              "      <td>1.0</td>\n",
              "      <td>Y</td>\n",
              "      <td>1</td>\n",
              "      <td>1</td>\n",
              "      <td>0</td>\n",
              "      <td>0</td>\n",
              "      <td>0</td>\n",
              "      <td>1</td>\n",
              "      <td>0</td>\n",
              "      <td>0</td>\n",
              "      <td>1</td>\n",
              "    </tr>\n",
              "    <tr>\n",
              "      <th>4</th>\n",
              "      <td>LP001008</td>\n",
              "      <td>6000</td>\n",
              "      <td>0.0</td>\n",
              "      <td>141.000000</td>\n",
              "      <td>360.0</td>\n",
              "      <td>1.0</td>\n",
              "      <td>Y</td>\n",
              "      <td>1</td>\n",
              "      <td>0</td>\n",
              "      <td>0</td>\n",
              "      <td>0</td>\n",
              "      <td>0</td>\n",
              "      <td>0</td>\n",
              "      <td>0</td>\n",
              "      <td>0</td>\n",
              "      <td>1</td>\n",
              "    </tr>\n",
              "  </tbody>\n",
              "</table>\n",
              "</div>"
            ],
            "text/plain": [
              "    Loan_ID  ApplicantIncome  CoapplicantIncome  LoanAmount  Loan_Amount_Term  \\\n",
              "0  LP001002             5849                0.0  146.412162             360.0   \n",
              "1  LP001003             4583             1508.0  128.000000             360.0   \n",
              "2  LP001005             3000                0.0   66.000000             360.0   \n",
              "3  LP001006             2583             2358.0  120.000000             360.0   \n",
              "4  LP001008             6000                0.0  141.000000             360.0   \n",
              "\n",
              "   Credit_History Loan_Status  Gender_Male  Married_Yes  Dependents_1  \\\n",
              "0             1.0           Y            1            0             0   \n",
              "1             1.0           N            1            1             1   \n",
              "2             1.0           Y            1            1             0   \n",
              "3             1.0           Y            1            1             0   \n",
              "4             1.0           Y            1            0             0   \n",
              "\n",
              "   Dependents_2  Dependents_3+  Education_Not Graduate  Self_Employed_Yes  \\\n",
              "0             0              0                       0                  0   \n",
              "1             0              0                       0                  0   \n",
              "2             0              0                       0                  1   \n",
              "3             0              0                       1                  0   \n",
              "4             0              0                       0                  0   \n",
              "\n",
              "   Property_Area_Semiurban  Property_Area_Urban  \n",
              "0                        0                    1  \n",
              "1                        0                    0  \n",
              "2                        0                    1  \n",
              "3                        0                    1  \n",
              "4                        0                    1  "
            ]
          },
          "metadata": {},
          "execution_count": 192
        }
      ]
    },
    {
      "cell_type": "markdown",
      "metadata": {
        "id": "fhoVLvA_SM-s"
      },
      "source": [
        "**Target** value is categorical it is necessary to convert to numerical"
      ]
    },
    {
      "cell_type": "code",
      "metadata": {
        "id": "t9WG-ExgSDMv"
      },
      "source": [
        "le = preprocessing.LabelEncoder()\n",
        "data['Loan_Status'] = le.fit_transform(data['Loan_Status'])"
      ],
      "execution_count": null,
      "outputs": []
    },
    {
      "cell_type": "code",
      "metadata": {
        "colab": {
          "base_uri": "https://localhost:8080/",
          "height": 244
        },
        "id": "uaOnXidiTbLc",
        "outputId": "65d0cb75-5937-48f2-bdd4-6c87a8c912c5"
      },
      "source": [
        "data.head()"
      ],
      "execution_count": null,
      "outputs": [
        {
          "output_type": "execute_result",
          "data": {
            "text/html": [
              "<div>\n",
              "<style scoped>\n",
              "    .dataframe tbody tr th:only-of-type {\n",
              "        vertical-align: middle;\n",
              "    }\n",
              "\n",
              "    .dataframe tbody tr th {\n",
              "        vertical-align: top;\n",
              "    }\n",
              "\n",
              "    .dataframe thead th {\n",
              "        text-align: right;\n",
              "    }\n",
              "</style>\n",
              "<table border=\"1\" class=\"dataframe\">\n",
              "  <thead>\n",
              "    <tr style=\"text-align: right;\">\n",
              "      <th></th>\n",
              "      <th>Loan_ID</th>\n",
              "      <th>ApplicantIncome</th>\n",
              "      <th>CoapplicantIncome</th>\n",
              "      <th>LoanAmount</th>\n",
              "      <th>Loan_Amount_Term</th>\n",
              "      <th>Credit_History</th>\n",
              "      <th>Loan_Status</th>\n",
              "      <th>Gender_Male</th>\n",
              "      <th>Married_Yes</th>\n",
              "      <th>Dependents_1</th>\n",
              "      <th>Dependents_2</th>\n",
              "      <th>Dependents_3+</th>\n",
              "      <th>Education_Not Graduate</th>\n",
              "      <th>Self_Employed_Yes</th>\n",
              "      <th>Property_Area_Semiurban</th>\n",
              "      <th>Property_Area_Urban</th>\n",
              "    </tr>\n",
              "  </thead>\n",
              "  <tbody>\n",
              "    <tr>\n",
              "      <th>0</th>\n",
              "      <td>LP001002</td>\n",
              "      <td>5849</td>\n",
              "      <td>0.0</td>\n",
              "      <td>146.412162</td>\n",
              "      <td>360.0</td>\n",
              "      <td>1.0</td>\n",
              "      <td>1</td>\n",
              "      <td>1</td>\n",
              "      <td>0</td>\n",
              "      <td>0</td>\n",
              "      <td>0</td>\n",
              "      <td>0</td>\n",
              "      <td>0</td>\n",
              "      <td>0</td>\n",
              "      <td>0</td>\n",
              "      <td>1</td>\n",
              "    </tr>\n",
              "    <tr>\n",
              "      <th>1</th>\n",
              "      <td>LP001003</td>\n",
              "      <td>4583</td>\n",
              "      <td>1508.0</td>\n",
              "      <td>128.000000</td>\n",
              "      <td>360.0</td>\n",
              "      <td>1.0</td>\n",
              "      <td>0</td>\n",
              "      <td>1</td>\n",
              "      <td>1</td>\n",
              "      <td>1</td>\n",
              "      <td>0</td>\n",
              "      <td>0</td>\n",
              "      <td>0</td>\n",
              "      <td>0</td>\n",
              "      <td>0</td>\n",
              "      <td>0</td>\n",
              "    </tr>\n",
              "    <tr>\n",
              "      <th>2</th>\n",
              "      <td>LP001005</td>\n",
              "      <td>3000</td>\n",
              "      <td>0.0</td>\n",
              "      <td>66.000000</td>\n",
              "      <td>360.0</td>\n",
              "      <td>1.0</td>\n",
              "      <td>1</td>\n",
              "      <td>1</td>\n",
              "      <td>1</td>\n",
              "      <td>0</td>\n",
              "      <td>0</td>\n",
              "      <td>0</td>\n",
              "      <td>0</td>\n",
              "      <td>1</td>\n",
              "      <td>0</td>\n",
              "      <td>1</td>\n",
              "    </tr>\n",
              "    <tr>\n",
              "      <th>3</th>\n",
              "      <td>LP001006</td>\n",
              "      <td>2583</td>\n",
              "      <td>2358.0</td>\n",
              "      <td>120.000000</td>\n",
              "      <td>360.0</td>\n",
              "      <td>1.0</td>\n",
              "      <td>1</td>\n",
              "      <td>1</td>\n",
              "      <td>1</td>\n",
              "      <td>0</td>\n",
              "      <td>0</td>\n",
              "      <td>0</td>\n",
              "      <td>1</td>\n",
              "      <td>0</td>\n",
              "      <td>0</td>\n",
              "      <td>1</td>\n",
              "    </tr>\n",
              "    <tr>\n",
              "      <th>4</th>\n",
              "      <td>LP001008</td>\n",
              "      <td>6000</td>\n",
              "      <td>0.0</td>\n",
              "      <td>141.000000</td>\n",
              "      <td>360.0</td>\n",
              "      <td>1.0</td>\n",
              "      <td>1</td>\n",
              "      <td>1</td>\n",
              "      <td>0</td>\n",
              "      <td>0</td>\n",
              "      <td>0</td>\n",
              "      <td>0</td>\n",
              "      <td>0</td>\n",
              "      <td>0</td>\n",
              "      <td>0</td>\n",
              "      <td>1</td>\n",
              "    </tr>\n",
              "  </tbody>\n",
              "</table>\n",
              "</div>"
            ],
            "text/plain": [
              "    Loan_ID  ApplicantIncome  CoapplicantIncome  LoanAmount  Loan_Amount_Term  \\\n",
              "0  LP001002             5849                0.0  146.412162             360.0   \n",
              "1  LP001003             4583             1508.0  128.000000             360.0   \n",
              "2  LP001005             3000                0.0   66.000000             360.0   \n",
              "3  LP001006             2583             2358.0  120.000000             360.0   \n",
              "4  LP001008             6000                0.0  141.000000             360.0   \n",
              "\n",
              "   Credit_History  Loan_Status  Gender_Male  Married_Yes  Dependents_1  \\\n",
              "0             1.0            1            1            0             0   \n",
              "1             1.0            0            1            1             1   \n",
              "2             1.0            1            1            1             0   \n",
              "3             1.0            1            1            1             0   \n",
              "4             1.0            1            1            0             0   \n",
              "\n",
              "   Dependents_2  Dependents_3+  Education_Not Graduate  Self_Employed_Yes  \\\n",
              "0             0              0                       0                  0   \n",
              "1             0              0                       0                  0   \n",
              "2             0              0                       0                  1   \n",
              "3             0              0                       1                  0   \n",
              "4             0              0                       0                  0   \n",
              "\n",
              "   Property_Area_Semiurban  Property_Area_Urban  \n",
              "0                        0                    1  \n",
              "1                        0                    0  \n",
              "2                        0                    1  \n",
              "3                        0                    1  \n",
              "4                        0                    1  "
            ]
          },
          "metadata": {},
          "execution_count": 194
        }
      ]
    },
    {
      "cell_type": "markdown",
      "metadata": {
        "id": "gUFBHw-CU97T"
      },
      "source": [
        "# Feature importance"
      ]
    },
    {
      "cell_type": "code",
      "metadata": {
        "id": "PdFgZml_TeOf"
      },
      "source": [
        "X = data.drop(['Loan_Status', 'Loan_ID'] , axis=1)\n",
        "y = data['Loan_Status']\n",
        "# split data to train and test set\n",
        "X_train, X_test, y_train, y_test = train_test_split(X, y, test_size=0.2,stratify =y,random_state =42)"
      ],
      "execution_count": null,
      "outputs": []
    },
    {
      "cell_type": "markdown",
      "metadata": {
        "id": "yiGJDlKpJgYz"
      },
      "source": [
        "In this predition we apply feature importance for finding important features and remove others. based on the chart all of features are effective in modeling"
      ]
    },
    {
      "cell_type": "code",
      "metadata": {
        "id": "F51X1wnJU8-c"
      },
      "source": [
        "def plot_feature_importance(importance,names,model_type):\n",
        "\n",
        "  #Create arrays from feature importance and feature names\n",
        "  feature_importance = np.array(importance)\n",
        "  feature_names = np.array(names)\n",
        "\n",
        "  #Create a DataFrame using a Dictionary\n",
        "  data={'feature_names':feature_names,'feature_importance':feature_importance}\n",
        "  fi_df = pd.DataFrame(data)\n",
        "\n",
        "  #Sort the DataFrame in order decreasing feature importance\n",
        "  fi_df.sort_values(by=['feature_importance'], ascending=False,inplace=True)\n",
        "\n",
        "  plt.figure(figsize=(8,6))\n",
        "  sns.barplot(x=fi_df['feature_importance'], y=fi_df['feature_names'])\n",
        "  #Add chart labels\n",
        "  plt.title(model_type + ' FEATURE IMPORTANCE')\n",
        "  plt.xlabel('FEATURE IMPORTANCE')\n",
        "  plt.ylabel('FEATURE NAMES')"
      ],
      "execution_count": null,
      "outputs": []
    },
    {
      "cell_type": "code",
      "metadata": {
        "colab": {
          "base_uri": "https://localhost:8080/"
        },
        "id": "HIqxrJnSVdmu",
        "outputId": "60db2dc4-a259-4c83-cf4b-89f13c5e9431"
      },
      "source": [
        "xgbc = XGBClassifier()\n",
        "random_forest = RandomForestClassifier()\n",
        "decision_tree = DecisionTreeClassifier()\n",
        "\n",
        "xgbc.fit(X, y)\n",
        "random_forest.fit(X, y)\n",
        "decision_tree.fit(X, y)"
      ],
      "execution_count": null,
      "outputs": [
        {
          "output_type": "execute_result",
          "data": {
            "text/plain": [
              "DecisionTreeClassifier(ccp_alpha=0.0, class_weight=None, criterion='gini',\n",
              "                       max_depth=None, max_features=None, max_leaf_nodes=None,\n",
              "                       min_impurity_decrease=0.0, min_impurity_split=None,\n",
              "                       min_samples_leaf=1, min_samples_split=2,\n",
              "                       min_weight_fraction_leaf=0.0, presort='deprecated',\n",
              "                       random_state=None, splitter='best')"
            ]
          },
          "metadata": {},
          "execution_count": 197
        }
      ]
    },
    {
      "cell_type": "code",
      "metadata": {
        "colab": {
          "base_uri": "https://localhost:8080/",
          "height": 1000
        },
        "id": "upwdaeToVjVv",
        "outputId": "5fecd828-e9f9-4f86-beea-b87e1d5ee772"
      },
      "source": [
        "#plot feature importance for three tree-based model\n",
        "plot_feature_importance(xgbc.feature_importances_,X_train.columns,'XG BOOST')\n",
        "plot_feature_importance(random_forest.feature_importances_,X_train.columns,'RANDOM FOREST')\n",
        "plot_feature_importance(decision_tree.feature_importances_,X_train.columns,'DECISION TREE')"
      ],
      "execution_count": null,
      "outputs": [
        {
          "output_type": "display_data",
          "data": {
            "image/png": "[encoded data removed]",
            "text/plain": [
              "<Figure size 576x432 with 1 Axes>"
            ]
          },
          "metadata": {
            "needs_background": "light"
          }
        },
        {
          "output_type": "display_data",
          "data": {
            "image/png": "[encoded data removed]",
            "text/plain": [
              "<Figure size 576x432 with 1 Axes>"
            ]
          },
          "metadata": {
            "needs_background": "light"
          }
        },
        {
          "output_type": "display_data",
          "data": {
            "image/png": "[encoded data removed]",
            "text/plain": [
              "<Figure size 576x432 with 1 Axes>"
            ]
          },
          "metadata": {
            "needs_background": "light"
          }
        }
      ]
    },
    {
      "cell_type": "markdown",
      "metadata": {
        "id": "SuCfHwyHKLmS"
      },
      "source": [
        "### Grid search for parameter tuning"
      ]
    },
    {
      "cell_type": "code",
      "metadata": {
        "id": "BVC5tVJozYHF"
      },
      "source": [
        "model_params = {\n",
        "    'XGboost': {\n",
        "        'model': XGBClassifier(),\n",
        "        'params' : {\n",
        "            'n_estimators'       : np.arange(100,500,100),     \n",
        "            'learning_rate'      : np.arange(0, .3, .05),\n",
        "            'max_depth'          : np.arange(5,30,5),\n",
        "            'gamma'              : np.arange(.1,1,.2),\n",
        "            \n",
        "        }\n",
        "    },\n",
        "   \n",
        "    'random_forest': {\n",
        "        'model': RandomForestClassifier(),\n",
        "        'params' : {\n",
        "            'n_estimators'       : np.arange(100, 500,100),   \n",
        "            'max_depth'          : np.arange(5,20,5),\n",
        "            'min_samples_leaf'   : np.arange(7,35,7),\n",
        "            'criterion'          : ['gini', 'entropy']\n",
        "        }\n",
        "    },\n",
        "    'logistic_regression' : {\n",
        "        'model': LogisticRegression(multi_class='auto'),\n",
        "        'params': {\n",
        "            'C'             :  np.arange(2,10,2),\n",
        "            'penalty'       : ['l1','l2'],\n",
        "            'solver'        : ['newton-cg', 'lbfgs', 'liblinear'],\n",
        "        }\n",
        "    },\n",
        "    \n",
        "    'decision_tree': {\n",
        "        'model': DecisionTreeClassifier(),\n",
        "        'params': {   \n",
        "            'max_depth'          : np.arange(5,20,5),\n",
        "            'min_samples_leaf'   : np.arange(7,35,7),\n",
        "            'criterion'          : ['gini', 'entropy'],\n",
        "            \n",
        "        }\n",
        "    }     \n",
        "}"
      ],
      "execution_count": null,
      "outputs": []
    },
    {
      "cell_type": "code",
      "metadata": {
        "id": "3jlNp6jOQMpc",
        "colab": {
          "base_uri": "https://localhost:8080/"
        },
        "outputId": "f05e8144-b892-4dbe-fa2a-27d190abb18a"
      },
      "source": [
        "scores = []\n",
        "\n",
        "for model_name, mp in model_params.items():\n",
        "    clf =  GridSearchCV(mp['model'], mp['params'], cv=10,n_jobs=-1,verbose=2, return_train_score=False)\n",
        "    clf.fit(X_train, y_train)\n",
        "    scores.append({\n",
        "        'model': model_name,\n",
        "        'best_score': clf.best_score_,\n",
        "        'best_params': clf.best_params_\n",
        "    })\n",
        "    \n",
        "df = pd.DataFrame(scores,columns=['model','best_score','best_params'])\n"
      ],
      "execution_count": null,
      "outputs": [
        {
          "output_type": "stream",
          "name": "stdout",
          "text": [
            "Fitting 10 folds for each of 600 candidates, totalling 6000 fits\n"
          ]
        },
        {
          "output_type": "stream",
          "name": "stderr",
          "text": [
            "[Parallel(n_jobs=-1)]: Using backend LokyBackend with 2 concurrent workers.\n",
            "[Parallel(n_jobs=-1)]: Done  37 tasks      | elapsed:    5.1s\n",
            "[Parallel(n_jobs=-1)]: Done 158 tasks      | elapsed:   30.9s\n",
            "[Parallel(n_jobs=-1)]: Done 361 tasks      | elapsed:  1.2min\n",
            "[Parallel(n_jobs=-1)]: Done 644 tasks      | elapsed:  1.9min\n",
            "[Parallel(n_jobs=-1)]: Done 1009 tasks      | elapsed:  2.9min\n",
            "[Parallel(n_jobs=-1)]: Done 1454 tasks      | elapsed:  4.1min\n",
            "[Parallel(n_jobs=-1)]: Done 1981 tasks      | elapsed:  5.7min\n",
            "[Parallel(n_jobs=-1)]: Done 2588 tasks      | elapsed:  7.5min\n",
            "[Parallel(n_jobs=-1)]: Done 3277 tasks      | elapsed:  9.6min\n",
            "[Parallel(n_jobs=-1)]: Done 4046 tasks      | elapsed: 12.0min\n",
            "[Parallel(n_jobs=-1)]: Done 4897 tasks      | elapsed: 14.6min\n",
            "[Parallel(n_jobs=-1)]: Done 5828 tasks      | elapsed: 17.6min\n",
            "[Parallel(n_jobs=-1)]: Done 6000 out of 6000 | elapsed: 18.2min finished\n",
            "[Parallel(n_jobs=-1)]: Using backend LokyBackend with 2 concurrent workers.\n"
          ]
        },
        {
          "output_type": "stream",
          "name": "stdout",
          "text": [
            "Fitting 10 folds for each of 96 candidates, totalling 960 fits\n"
          ]
        },
        {
          "output_type": "stream",
          "name": "stderr",
          "text": [
            "[Parallel(n_jobs=-1)]: Done  37 tasks      | elapsed:   12.2s\n",
            "[Parallel(n_jobs=-1)]: Done 158 tasks      | elapsed:   51.2s\n",
            "[Parallel(n_jobs=-1)]: Done 361 tasks      | elapsed:  2.0min\n",
            "[Parallel(n_jobs=-1)]: Done 644 tasks      | elapsed:  3.5min\n",
            "[Parallel(n_jobs=-1)]: Done 960 out of 960 | elapsed:  5.3min finished\n",
            "[Parallel(n_jobs=-1)]: Using backend LokyBackend with 2 concurrent workers.\n"
          ]
        },
        {
          "output_type": "stream",
          "name": "stdout",
          "text": [
            "Fitting 10 folds for each of 24 candidates, totalling 240 fits\n"
          ]
        },
        {
          "output_type": "stream",
          "name": "stderr",
          "text": [
            "[Parallel(n_jobs=-1)]: Done 228 tasks      | elapsed:    6.2s\n",
            "[Parallel(n_jobs=-1)]: Done 240 out of 240 | elapsed:    6.7s finished\n",
            "[Parallel(n_jobs=-1)]: Using backend LokyBackend with 2 concurrent workers.\n"
          ]
        },
        {
          "output_type": "stream",
          "name": "stdout",
          "text": [
            "Fitting 10 folds for each of 24 candidates, totalling 240 fits\n"
          ]
        },
        {
          "output_type": "stream",
          "name": "stderr",
          "text": [
            "[Parallel(n_jobs=-1)]: Done 205 tasks      | elapsed:    0.9s\n",
            "[Parallel(n_jobs=-1)]: Done 237 out of 240 | elapsed:    1.1s remaining:    0.0s\n",
            "[Parallel(n_jobs=-1)]: Done 240 out of 240 | elapsed:    1.1s finished\n"
          ]
        }
      ]
    },
    {
      "cell_type": "code",
      "metadata": {
        "colab": {
          "base_uri": "https://localhost:8080/",
          "height": 175
        },
        "id": "T3xDJpRTwE67",
        "outputId": "bb8c3a97-c941-4c74-f1ad-66256be2bc7d"
      },
      "source": [
        "\n",
        "df = pd.DataFrame(scores,columns=['model','best_score','best_params'])\n",
        "df"
      ],
      "execution_count": null,
      "outputs": [
        {
          "output_type": "execute_result",
          "data": {
            "text/html": [
              "<div>\n",
              "<style scoped>\n",
              "    .dataframe tbody tr th:only-of-type {\n",
              "        vertical-align: middle;\n",
              "    }\n",
              "\n",
              "    .dataframe tbody tr th {\n",
              "        vertical-align: top;\n",
              "    }\n",
              "\n",
              "    .dataframe thead th {\n",
              "        text-align: right;\n",
              "    }\n",
              "</style>\n",
              "<table border=\"1\" class=\"dataframe\">\n",
              "  <thead>\n",
              "    <tr style=\"text-align: right;\">\n",
              "      <th></th>\n",
              "      <th>model</th>\n",
              "      <th>best_score</th>\n",
              "      <th>best_params</th>\n",
              "    </tr>\n",
              "  </thead>\n",
              "  <tbody>\n",
              "    <tr>\n",
              "      <th>0</th>\n",
              "      <td>XGboost</td>\n",
              "      <td>0.782204</td>\n",
              "      <td>{'gamma': 0.7000000000000001, 'learning_rate': 0.05, 'max_depth': 5, 'n_estimators': 100}</td>\n",
              "    </tr>\n",
              "    <tr>\n",
              "      <th>1</th>\n",
              "      <td>random_forest</td>\n",
              "      <td>0.798408</td>\n",
              "      <td>{'criterion': 'gini', 'max_depth': 5, 'min_samples_leaf': 7, 'n_estimators': 100}</td>\n",
              "    </tr>\n",
              "    <tr>\n",
              "      <th>2</th>\n",
              "      <td>logistic_regression</td>\n",
              "      <td>0.796408</td>\n",
              "      <td>{'C': 6, 'penalty': 'l2', 'solver': 'lbfgs'}</td>\n",
              "    </tr>\n",
              "    <tr>\n",
              "      <th>3</th>\n",
              "      <td>decision_tree</td>\n",
              "      <td>0.794327</td>\n",
              "      <td>{'criterion': 'gini', 'max_depth': 5, 'min_samples_leaf': 28}</td>\n",
              "    </tr>\n",
              "  </tbody>\n",
              "</table>\n",
              "</div>"
            ],
            "text/plain": [
              "                 model  best_score  \\\n",
              "0              XGboost    0.782204   \n",
              "1        random_forest    0.798408   \n",
              "2  logistic_regression    0.796408   \n",
              "3        decision_tree    0.794327   \n",
              "\n",
              "                                                                                 best_params  \n",
              "0  {'gamma': 0.7000000000000001, 'learning_rate': 0.05, 'max_depth': 5, 'n_estimators': 100}  \n",
              "1          {'criterion': 'gini', 'max_depth': 5, 'min_samples_leaf': 7, 'n_estimators': 100}  \n",
              "2                                               {'C': 6, 'penalty': 'l2', 'solver': 'lbfgs'}  \n",
              "3                              {'criterion': 'gini', 'max_depth': 5, 'min_samples_leaf': 28}  "
            ]
          },
          "metadata": {},
          "execution_count": 201
        }
      ]
    },
    {
      "cell_type": "markdown",
      "metadata": {
        "id": "ETkcINv8WQ25"
      },
      "source": [
        "# Models\n",
        "\n",
        "1. XGBClassifier\n",
        "\n",
        "2. XGBClassifier with RandomOverSampler\n",
        "\n",
        "3. XGBClassifier with RandomUnderSampler\n",
        "\n",
        "4. XGBClassifier with SMOOTH"
      ]
    },
    {
      "cell_type": "code",
      "metadata": {
        "colab": {
          "base_uri": "https://localhost:8080/"
        },
        "id": "qrFe20dGWQZf",
        "outputId": "fcb8d6b8-baf8-4034-e5cb-7de0e2ec047c"
      },
      "source": [
        "print ('XGBClassifier')\n",
        "print('\\n')\n",
        "\n",
        "model_XGBC = xgb.XGBClassifier(**scores[0]['best_params'])\n",
        "# model_XGBC = xgb.XGBClassifier()\n",
        "\n",
        "model_XGBC.fit(X_train,y_train)\n",
        "y_predicted = model_XGBC.predict(X_test)\n",
        "\n",
        "counter = Counter(y)\n",
        "print(counter)\n",
        "print('--------------------------')\n",
        "print('Accuracy:',accuracy_score(y_test,y_predicted))\n",
        "print('--------------------------')\n",
        "print('F1 Score:', f1_score(y_test, y_predicted, average='weighted'))\n",
        "print('--------------------------')\n",
        "print('ROC-AUC Score:', roc_auc_score(y_test,y_predicted))\n",
        "print('--------------------------')\n",
        "print('Classifcation report:\\n', classification_report(y_test, y_predicted))\n",
        "print('--------------------------')\n",
        "print('Confusion matrix:\\n', confusion_matrix(y_true = y_test, y_pred=y_predicted))\n",
        "print('================================================')\n",
        "\n",
        "print('XGBClassifier with ROS')\n",
        "print('\\n')\n",
        "\n",
        "\n",
        "ros = RandomOverSampler(sampling_strategy='minority', ratio=.75,random_state=0)\n",
        "\n",
        "X_train_ros, y_train_ros = ros.fit_sample(X_train,y_train)\n",
        "model_XGBC.fit(X_train_ros, y_train_ros)\n",
        "y_predicted = model_XGBC.predict(X_test.values)\n",
        "\n",
        "counter = Counter(y_train_ros)\n",
        "print(counter)\n",
        "('--------------------------')\n",
        "print('Accuracy:',accuracy_score(y_test,y_predicted))\n",
        "('--------------------------')\n",
        "print('F1 Score:', f1_score(y_test, y_predicted, average='weighted'))\n",
        "('--------------------------')\n",
        "print('ROC-AUC Score:', roc_auc_score(y_test,y_predicted))\n",
        "('--------------------------')\n",
        "print('Classifcation report:\\n', classification_report(y_test, y_predicted))\n",
        "('--------------------------')\n",
        "print('Confusion matrix:\\n', confusion_matrix(y_true = y_test, y_pred=y_predicted))\n",
        "print('================================================')\n",
        "\n",
        "print('XGBClassifier with RUS')\n",
        "print('\\n')\n",
        "\n",
        "\n",
        "\n",
        "rus = RandomUnderSampler()\n",
        "\n",
        "X_train_rus, y_train_rus = rus.fit_sample(X_train,y_train)\n",
        "model_XGBC.fit(X_train_rus, y_train_rus)\n",
        "y_predicted = model_XGBC.predict(X_test.values)\n",
        "\n",
        "counter = Counter(y_train_rus)\n",
        "print(counter)\n",
        "print('--------------------------')\n",
        "print('Accuracy:',accuracy_score(y_test,y_predicted))\n",
        "print('--------------------------')\n",
        "print('F1 Score:', f1_score(y_test, y_predicted))\n",
        "print('--------------------------')\n",
        "print('ROC-AUC Score:', roc_auc_score(y_test,y_predicted))\n",
        "print('--------------------------')\n",
        "print('Classifcation report:\\n', classification_report(y_test, y_predicted))\n",
        "print('Confusion matrix:\\n', confusion_matrix(y_true = y_test, y_pred=y_predicted))\n",
        "print('================================================')\n",
        "\n",
        "print('XGBClassifier with SMOOTH')\n",
        "print('\\n')\n",
        "\n",
        "\n",
        "\n",
        "resampling = BorderlineSMOTE(kind='borderline-2')\n",
        "pipeline = Pipeline([('SMOTE', resampling), ('Classifier', model_XGBC)])\n",
        "\n",
        "pipeline.fit(X_train, y_train) \n",
        "y_predicted = pipeline.predict(X_test.values)\n",
        "\n",
        "print('Accuracy:',accuracy_score(y_test,y_predicted))\n",
        "print('--------------------------')\n",
        "print('F1 Score:', f1_score(y_test, y_predicted, average='weighted'))\n",
        "print('--------------------------')\n",
        "print('ROC-AUC Score:', roc_auc_score(y_test,y_predicted))\n",
        "print('--------------------------')\n",
        "print('Classifcation report:\\n', classification_report(y_test, y_predicted))\n",
        "print('--------------------------')\n",
        "print('Confusion matrix:\\n', confusion_matrix(y_true = y_test, y_pred=y_predicted))\n",
        "\n",
        "\n"
      ],
      "execution_count": null,
      "outputs": [
        {
          "output_type": "stream",
          "name": "stdout",
          "text": [
            "XGBClassifier\n",
            "\n",
            "\n",
            "Counter({1: 422, 0: 192})\n",
            "--------------------------\n",
            "Accuracy: 0.8292682926829268\n",
            "--------------------------\n",
            "F1 Score: 0.8200097436588475\n",
            "--------------------------\n",
            "ROC-AUC Score: 0.760061919504644\n",
            "--------------------------\n",
            "Classifcation report:\n",
            "               precision    recall  f1-score   support\n",
            "\n",
            "           0       0.81      0.58      0.68        38\n",
            "           1       0.83      0.94      0.88        85\n",
            "\n",
            "    accuracy                           0.83       123\n",
            "   macro avg       0.82      0.76      0.78       123\n",
            "weighted avg       0.83      0.83      0.82       123\n",
            "\n",
            "--------------------------\n",
            "Confusion matrix:\n",
            " [[22 16]\n",
            " [ 5 80]]\n",
            "================================================\n",
            "XGBClassifier with ROS\n",
            "\n",
            "\n",
            "Counter({1: 337, 0: 252})\n",
            "Accuracy: 0.7967479674796748\n",
            "F1 Score: 0.7943338567125476\n",
            "ROC-AUC Score: 0.7510835913312693\n",
            "Classifcation report:\n",
            "               precision    recall  f1-score   support\n",
            "\n",
            "           0       0.69      0.63      0.66        38\n",
            "           1       0.84      0.87      0.86        85\n",
            "\n",
            "    accuracy                           0.80       123\n",
            "   macro avg       0.76      0.75      0.76       123\n",
            "weighted avg       0.79      0.80      0.79       123\n",
            "\n",
            "Confusion matrix:\n",
            " [[24 14]\n",
            " [11 74]]\n",
            "================================================\n",
            "XGBClassifier with RUS\n",
            "\n",
            "\n",
            "Counter({0: 154, 1: 154})\n",
            "--------------------------\n",
            "Accuracy: 0.7235772357723578\n",
            "--------------------------\n",
            "F1 Score: 0.7901234567901235\n",
            "--------------------------\n",
            "ROC-AUC Score: 0.7054179566563468\n",
            "--------------------------\n",
            "Classifcation report:\n",
            "               precision    recall  f1-score   support\n",
            "\n",
            "           0       0.54      0.66      0.60        38\n",
            "           1       0.83      0.75      0.79        85\n",
            "\n",
            "    accuracy                           0.72       123\n",
            "   macro avg       0.69      0.71      0.69       123\n",
            "weighted avg       0.74      0.72      0.73       123\n",
            "\n",
            "Confusion matrix:\n",
            " [[25 13]\n",
            " [21 64]]\n",
            "================================================\n",
            "XGBClassifier with SMOOTH\n",
            "\n",
            "\n",
            "Accuracy: 0.7967479674796748\n",
            "--------------------------\n",
            "F1 Score: 0.7882063995325187\n",
            "--------------------------\n",
            "ROC-AUC Score: 0.7292569659442724\n",
            "--------------------------\n",
            "Classifcation report:\n",
            "               precision    recall  f1-score   support\n",
            "\n",
            "           0       0.72      0.55      0.63        38\n",
            "           1       0.82      0.91      0.86        85\n",
            "\n",
            "    accuracy                           0.80       123\n",
            "   macro avg       0.77      0.73      0.74       123\n",
            "weighted avg       0.79      0.80      0.79       123\n",
            "\n",
            "--------------------------\n",
            "Confusion matrix:\n",
            " [[21 17]\n",
            " [ 8 77]]\n"
          ]
        }
      ]
    },
    {
      "cell_type": "markdown",
      "metadata": {
        "id": "S8DpUIghyYhE"
      },
      "source": [
        "**Models:**\n",
        "\n",
        "1. Decision Tree\n",
        "\n",
        "2. Decision Tree with RandomOverSampler\n",
        "\n",
        "3. Decision Tree with RandomUnderSampler\n",
        "\n",
        "4. Decision Tree with SMOOTH"
      ]
    },
    {
      "cell_type": "code",
      "metadata": {
        "colab": {
          "base_uri": "https://localhost:8080/"
        },
        "id": "vMORZsSwyO_G",
        "outputId": "095953ff-655a-43bc-b806-a513656e8807"
      },
      "source": [
        "print('Decision Tree')\n",
        "print('\\n')\n",
        "\n",
        "\n",
        "\n",
        "decision_tree = DecisionTreeClassifier(**scores[3]['best_params'])\n",
        "\n",
        "decision_tree.fit(X_train,y_train)\n",
        "y_predicted = decision_tree.predict(X_test)\n",
        "\n",
        "# print(Counter(y_train))\n",
        "\n",
        "print('Accuracy:',accuracy_score(y_test,y_predicted))\n",
        "print('F1 Score:', f1_score(y_test, y_predicted, average='weighted'))\n",
        "print('ROC-AUC Score:', roc_auc_score(y_test,y_predicted))\n",
        "print('\\n')\n",
        "print('Classifcation report:\\n', classification_report(y_test, y_predicted))\n",
        "print('Confusion matrix:\\n', confusion_matrix(y_true = y_test, y_pred=y_predicted))\n",
        "print('--------------------')\n",
        "\n",
        "print('\\n')\n",
        "print('Decision Tree with ROS')\n",
        "print('\\n')\n",
        "\n",
        "\n",
        "ros = RandomOverSampler(sampling_strategy='minority', ratio=.75,random_state=0)\n",
        "\n",
        "X_train_ros, y_train_ros = ros.fit_sample(X_train,y_train)\n",
        "decision_tree.fit(X_train_ros, y_train_ros)\n",
        "y_predicted = decision_tree.predict(X_test)\n",
        "\n",
        "counter = Counter(y_train_ros)\n",
        "print(counter)\n",
        "\n",
        "print('Accuracy:',accuracy_score(y_test,y_predicted))\n",
        "print('F1 Score:', f1_score(y_test, y_predicted, average='weighted'))\n",
        "print('ROC-AUC Score:', roc_auc_score(y_test,y_predicted))\n",
        "print('\\n')\n",
        "print('Classifcation report:\\n', classification_report(y_test, y_predicted))\n",
        "print('Confusion matrix:\\n', confusion_matrix(y_true = y_test, y_pred=y_predicted))\n",
        "print('--------------------')\n",
        "\n",
        "print('\\n')\n",
        "print('Decision Tree with RUS')\n",
        "print('\\n')\n",
        "\n",
        "\n",
        "\n",
        "\n",
        "rus = RandomUnderSampler()\n",
        "\n",
        "X_train_rus, y_train_rus = rus.fit_sample(X_train,y_train)\n",
        "decision_tree.fit(X_train_rus, y_train_rus)\n",
        "y_predicted = decision_tree.predict(X_test)\n",
        "\n",
        "counter = Counter(y_train_rus)\n",
        "print(counter)\n",
        "\n",
        "print('Accuracy:',accuracy_score(y_test,y_predicted))\n",
        "print('F1 Score:', f1_score(y_test, y_predicted, average='weighted'))\n",
        "print('ROC-AUC Score:', roc_auc_score(y_test,y_predicted))\n",
        "print('\\n')\n",
        "print('Classifcation report:\\n', classification_report(y_test, y_predicted))\n",
        "print('Confusion matrix:\\n', confusion_matrix(y_true = y_test, y_pred=y_predicted))\n",
        "print('--------------------')\n",
        "\n",
        "print('\\n')\n",
        "print('Decision Tree with SMOTH')\n",
        "print('\\n')\n",
        "\n",
        "resampling = BorderlineSMOTE(kind='borderline-2')\n",
        "pipeline = Pipeline([('SMOTE', resampling), ('Classifier', decision_tree)])\n",
        "\n",
        "pipeline.fit(X_train, y_train) \n",
        "y_predicted = pipeline.predict(X_test)\n",
        "\n",
        "print('Accuracy:',accuracy_score(y_test,y_predicted))\n",
        "print('F1 Score:', f1_score(y_test, y_predicted, average='weighted'))\n",
        "print('ROC-AUC Score:', roc_auc_score(y_test,y_predicted))\n",
        "print('\\n')\n",
        "print('Classifcation report:\\n', classification_report(y_test, y_predicted))\n",
        "print('Confusion matrix:\\n', confusion_matrix(y_true = y_test, y_pred=y_predicted))"
      ],
      "execution_count": null,
      "outputs": [
        {
          "output_type": "stream",
          "name": "stdout",
          "text": [
            "Decision Tree\n",
            "\n",
            "\n",
            "Accuracy: 0.8130081300813008\n",
            "F1 Score: 0.805149887569917\n",
            "ROC-AUC Score: 0.748297213622291\n",
            "\n",
            "\n",
            "Classifcation report:\n",
            "               precision    recall  f1-score   support\n",
            "\n",
            "           0       0.76      0.58      0.66        38\n",
            "           1       0.83      0.92      0.87        85\n",
            "\n",
            "    accuracy                           0.81       123\n",
            "   macro avg       0.79      0.75      0.76       123\n",
            "weighted avg       0.81      0.81      0.81       123\n",
            "\n",
            "Confusion matrix:\n",
            " [[22 16]\n",
            " [ 7 78]]\n",
            "--------------------\n",
            "\n",
            "\n",
            "Decision Tree with ROS\n",
            "\n",
            "\n",
            "Counter({1: 337, 0: 252})\n",
            "Accuracy: 0.7967479674796748\n",
            "F1 Score: 0.8018274117706466\n",
            "ROC-AUC Score: 0.7947368421052632\n",
            "\n",
            "\n",
            "Classifcation report:\n",
            "               precision    recall  f1-score   support\n",
            "\n",
            "           0       0.64      0.79      0.71        38\n",
            "           1       0.89      0.80      0.84        85\n",
            "\n",
            "    accuracy                           0.80       123\n",
            "   macro avg       0.77      0.79      0.78       123\n",
            "weighted avg       0.82      0.80      0.80       123\n",
            "\n",
            "Confusion matrix:\n",
            " [[30  8]\n",
            " [17 68]]\n",
            "--------------------\n",
            "\n",
            "\n",
            "Decision Tree with RUS\n",
            "\n",
            "\n",
            "Counter({0: 154, 1: 154})\n",
            "Accuracy: 0.7154471544715447\n",
            "F1 Score: 0.7225583764789055\n",
            "ROC-AUC Score: 0.6995356037151703\n",
            "\n",
            "\n",
            "Classifcation report:\n",
            "               precision    recall  f1-score   support\n",
            "\n",
            "           0       0.53      0.66      0.59        38\n",
            "           1       0.83      0.74      0.78        85\n",
            "\n",
            "    accuracy                           0.72       123\n",
            "   macro avg       0.68      0.70      0.69       123\n",
            "weighted avg       0.74      0.72      0.72       123\n",
            "\n",
            "Confusion matrix:\n",
            " [[25 13]\n",
            " [22 63]]\n",
            "--------------------\n",
            "\n",
            "\n",
            "Decision Tree with SMOTH\n",
            "\n",
            "\n",
            "Accuracy: 0.8455284552845529\n",
            "F1 Score: 0.8371516728341953\n",
            "ROC-AUC Score: 0.7791021671826625\n",
            "\n",
            "\n",
            "Classifcation report:\n",
            "               precision    recall  f1-score   support\n",
            "\n",
            "           0       0.85      0.61      0.71        38\n",
            "           1       0.84      0.95      0.90        85\n",
            "\n",
            "    accuracy                           0.85       123\n",
            "   macro avg       0.85      0.78      0.80       123\n",
            "weighted avg       0.85      0.85      0.84       123\n",
            "\n",
            "Confusion matrix:\n",
            " [[23 15]\n",
            " [ 4 81]]\n"
          ]
        }
      ]
    },
    {
      "cell_type": "markdown",
      "metadata": {
        "id": "0w9xppBTyycZ"
      },
      "source": [
        "**Models:**\n",
        "\n",
        "1. RandomForset\n",
        "\n",
        "2. RandomForset with RandomOverSampler\n",
        "\n",
        "3. RandomForset with RandomUnderSampler\n",
        "\n",
        "4. RandomForset with SMOOTH"
      ]
    },
    {
      "cell_type": "code",
      "metadata": {
        "colab": {
          "base_uri": "https://localhost:8080/"
        },
        "id": "kVKg2tQsyx0D",
        "outputId": "2a98ea15-1736-4fa6-a2ae-2ee6357966b0"
      },
      "source": [
        "print('Random Forest')\n",
        "print('\\n')\n",
        "\n",
        "\n",
        "\n",
        "\n",
        "rf = RandomForestClassifier(**scores[1]['best_params'])\n",
        "rf.fit(X_train, y_train)\n",
        "y_predicted = rf.predict(X_test)\n",
        "\n",
        "print('Accuracy:',accuracy_score(y_test,y_predicted))\n",
        "print('F1 Score:', f1_score(y_test, y_predicted, average='weighted'))\n",
        "print('ROC-AUC Score:', roc_auc_score(y_test,y_predicted))\n",
        "print('\\n')\n",
        "print('Classifcation report:\\n', classification_report(y_test, y_predicted))\n",
        "print('Confusion matrix:\\n', confusion_matrix(y_true = y_test, y_pred=y_predicted))\n",
        "\n",
        "print('-------------------------------------------')\n",
        "print('\\n')\n",
        "print('Random Forest with ROS')\n",
        "print('\\n')\n",
        "\n",
        "\n",
        "ros = RandomOverSampler(sampling_strategy='minority', ratio=.75,random_state=0)\n",
        "\n",
        "X_train_ros, y_train_ros = ros.fit_sample(X_train,y_train)\n",
        "rf.fit(X_train_ros, y_train_ros)\n",
        "y_predicted = rf.predict(X_test)\n",
        "\n",
        "counter = Counter(y_train_ros)\n",
        "print(counter)\n",
        "\n",
        "print('Accuracy:',accuracy_score(y_test,y_predicted))\n",
        "print('F1 Score:', f1_score(y_test, y_predicted, average='weighted'))\n",
        "print('ROC-AUC Score:', roc_auc_score(y_test,y_predicted))\n",
        "print('\\n')\n",
        "print('Classifcation report:\\n', classification_report(y_test, y_predicted))\n",
        "print('Confusion matrix:\\n', confusion_matrix(y_true = y_test, y_pred=y_predicted))\n",
        "print('--------------------')\n",
        "\n",
        "print('\\n')\n",
        "print('Random Forest with RUS')\n",
        "print('\\n')\n",
        "\n",
        "rus = RandomUnderSampler()\n",
        "\n",
        "X_train_rus, y_train_rus = rus.fit_sample(X_train,y_train)\n",
        "rf.fit(X_train_rus, y_train_rus)\n",
        "y_predicted = rf.predict(X_test)\n",
        "\n",
        "counter = Counter(y_train_rus)\n",
        "print(counter)\n",
        "\n",
        "print('Accuracy:',accuracy_score(y_test,y_predicted))\n",
        "print('F1 Score:', f1_score(y_test, y_predicted, average='weighted'))\n",
        "print('ROC-AUC Score:', roc_auc_score(y_test,y_predicted))\n",
        "print('\\n')\n",
        "print('Classifcation report:\\n', classification_report(y_test, y_predicted))\n",
        "print('Confusion matrix:\\n', confusion_matrix(y_true = y_test, y_pred=y_predicted))\n",
        "print('--------------------')\n",
        "\n",
        "print('\\n')\n",
        "print('Random Forest with SMOTH')\n",
        "print('\\n')\n",
        "\n",
        "\n",
        "resampling = BorderlineSMOTE(kind='borderline-2')\n",
        "pipeline = Pipeline([('SMOTE', resampling), ('Classifier', rf)])\n",
        "\n",
        "pipeline.fit(X_train, y_train) \n",
        "y_predicted = pipeline.predict(X_test)\n",
        "\n",
        "print('Accuracy:',accuracy_score(y_test,y_predicted))\n",
        "print('F1 Score:', f1_score(y_test, y_predicted, average='weighted'))\n",
        "print('ROC-AUC Score:', roc_auc_score(y_test,y_predicted))\n",
        "print('\\n')\n",
        "print('Classifcation report:\\n', classification_report(y_test, y_predicted))\n",
        "print('Confusion matrix:\\n', confusion_matrix(y_true = y_test, y_pred=y_predicted))\n",
        "\n"
      ],
      "execution_count": null,
      "outputs": [
        {
          "output_type": "stream",
          "name": "stdout",
          "text": [
            "Random Forest\n",
            "\n",
            "\n",
            "Accuracy: 0.8536585365853658\n",
            "F1 Score: 0.8404405979543667\n",
            "ROC-AUC Score: 0.7704334365325077\n",
            "\n",
            "\n",
            "Classifcation report:\n",
            "               precision    recall  f1-score   support\n",
            "\n",
            "           0       0.95      0.55      0.70        38\n",
            "           1       0.83      0.99      0.90        85\n",
            "\n",
            "    accuracy                           0.85       123\n",
            "   macro avg       0.89      0.77      0.80       123\n",
            "weighted avg       0.87      0.85      0.84       123\n",
            "\n",
            "Confusion matrix:\n",
            " [[21 17]\n",
            " [ 1 84]]\n",
            "-------------------------------------------\n",
            "\n",
            "\n",
            "Random Forest with ROS\n",
            "\n",
            "\n",
            "Counter({1: 337, 0: 252})\n",
            "Accuracy: 0.8617886178861789\n",
            "F1 Score: 0.8542936020095432\n",
            "ROC-AUC Score: 0.798142414860681\n",
            "\n",
            "\n",
            "Classifcation report:\n",
            "               precision    recall  f1-score   support\n",
            "\n",
            "           0       0.89      0.63      0.74        38\n",
            "           1       0.85      0.96      0.91        85\n",
            "\n",
            "    accuracy                           0.86       123\n",
            "   macro avg       0.87      0.80      0.82       123\n",
            "weighted avg       0.86      0.86      0.85       123\n",
            "\n",
            "Confusion matrix:\n",
            " [[24 14]\n",
            " [ 3 82]]\n",
            "--------------------\n",
            "\n",
            "\n",
            "Random Forest with RUS\n",
            "\n",
            "\n",
            "Counter({0: 154, 1: 154})\n",
            "Accuracy: 0.7886178861788617\n",
            "F1 Score: 0.7851758402641498\n",
            "ROC-AUC Score: 0.7379256965944272\n",
            "\n",
            "\n",
            "Classifcation report:\n",
            "               precision    recall  f1-score   support\n",
            "\n",
            "           0       0.68      0.61      0.64        38\n",
            "           1       0.83      0.87      0.85        85\n",
            "\n",
            "    accuracy                           0.79       123\n",
            "   macro avg       0.75      0.74      0.74       123\n",
            "weighted avg       0.78      0.79      0.79       123\n",
            "\n",
            "Confusion matrix:\n",
            " [[23 15]\n",
            " [11 74]]\n",
            "--------------------\n",
            "\n",
            "\n",
            "Random Forest with SMOTH\n",
            "\n",
            "\n",
            "Accuracy: 0.8455284552845529\n",
            "F1 Score: 0.8371516728341953\n",
            "ROC-AUC Score: 0.7791021671826625\n",
            "\n",
            "\n",
            "Classifcation report:\n",
            "               precision    recall  f1-score   support\n",
            "\n",
            "           0       0.85      0.61      0.71        38\n",
            "           1       0.84      0.95      0.90        85\n",
            "\n",
            "    accuracy                           0.85       123\n",
            "   macro avg       0.85      0.78      0.80       123\n",
            "weighted avg       0.85      0.85      0.84       123\n",
            "\n",
            "Confusion matrix:\n",
            " [[23 15]\n",
            " [ 4 81]]\n"
          ]
        }
      ]
    },
    {
      "cell_type": "markdown",
      "metadata": {
        "id": "wkAyQpM0zMCJ"
      },
      "source": [
        "\n",
        "**Models:**\n",
        "\n",
        "1. Logistic Regression\n",
        "\n",
        "2. Logistic Regression with RandomOverSampler\n",
        "\n",
        "3. Logistic Regression with RandomUnderSampler\n",
        "\n",
        "4. Logistic Regression with SMOOTH"
      ]
    },
    {
      "cell_type": "code",
      "metadata": {
        "colab": {
          "base_uri": "https://localhost:8080/"
        },
        "id": "P3KYiSwlzLTi",
        "outputId": "5841237a-297e-4009-ff59-26c4af19ff70"
      },
      "source": [
        "print('Logistic Regression')\n",
        "print('\\n')\n",
        "\n",
        "\n",
        "scaler=StandardScaler()\n",
        "### fit vs fit_transform\n",
        "X_train_scaled=scaler.fit_transform(X_train)\n",
        "X_test_scaled=scaler.fit_transform(X_test)\n",
        "\n",
        "logr = LogisticRegression( **scores[2]['best_params'])\n",
        "logr.fit(X_train_scaled, y_train)\n",
        "y_predicted = logr.predict(X_test_scaled)\n",
        "\n",
        "print('Accuracy:',accuracy_score(y_test,y_predicted))\n",
        "print('F1 Score:', f1_score(y_test, y_predicted, average='weighted'))\n",
        "print('ROC-AUC Score:', roc_auc_score(y_test,y_predicted))\n",
        "print('\\n')\n",
        "print('Classifcation report:\\n', classification_report(y_test, y_predicted))\n",
        "print('Confusion matrix:\\n', confusion_matrix(y_true = y_test, y_pred=y_predicted))\n",
        "\n",
        "print('-------------------------------------------')\n",
        "print('\\n')\n",
        "print('Logistic Regression with ROS')\n",
        "print('\\n')\n",
        "\n",
        "\n",
        "ros = RandomOverSampler(sampling_strategy='minority', ratio=.75,random_state=0)\n",
        "\n",
        "X_train_ros, y_train_ros = ros.fit_sample(X_train_scaled,y_train)\n",
        "logr.fit(X_train_ros, y_train_ros)\n",
        "y_predicted = logr.predict(X_test_scaled)\n",
        "\n",
        "counter = Counter(y_train_ros)\n",
        "print(counter)\n",
        "\n",
        "print('Accuracy:',accuracy_score(y_test,y_predicted))\n",
        "print('F1 Score:', f1_score(y_test, y_predicted, average='weighted'))\n",
        "print('ROC-AUC Score:', roc_auc_score(y_test,y_predicted))\n",
        "print('\\n')\n",
        "print('Classifcation report:\\n', classification_report(y_test, y_predicted))\n",
        "print('Confusion matrix:\\n', confusion_matrix(y_true = y_test, y_pred=y_predicted))\n",
        "print('--------------------')\n",
        "\n",
        "print('\\n')\n",
        "print('Logistic Regression with RUS')\n",
        "print('\\n')\n",
        "\n",
        "\n",
        "rus = RandomUnderSampler()\n",
        "\n",
        "X_train_rus, y_train_rus = rus.fit_sample(X_train_scaled,y_train)\n",
        "logr.fit(X_train_rus, y_train_rus)\n",
        "y_predicted = logr.predict(X_test_scaled)\n",
        "\n",
        "counter = Counter(y_train_rus)\n",
        "print(counter)\n",
        "\n",
        "print('Accuracy:',accuracy_score(y_test,y_predicted))\n",
        "print('F1 Score:', f1_score(y_test, y_predicted, average='weighted'))\n",
        "print('ROC-AUC Score:', roc_auc_score(y_test,y_predicted))\n",
        "print('\\n')\n",
        "print('Classifcation report:\\n', classification_report(y_test, y_predicted))\n",
        "print('Confusion matrix:\\n', confusion_matrix(y_true = y_test, y_pred=y_predicted))\n",
        "print('--------------------')\n",
        "\n",
        "print('\\n')\n",
        "print('Logistic Regression with SMOTH')\n",
        "print('\\n')\n",
        "\n",
        "resampling = BorderlineSMOTE(kind='borderline-2')\n",
        "pipeline = Pipeline([('SMOTE', resampling), ('Classifier', logr)])\n",
        "\n",
        "pipeline.fit(X_train_scaled, y_train) \n",
        "y_predicted = pipeline.predict(X_test_scaled)\n",
        "\n",
        "print('Accuracy:',accuracy_score(y_test,y_predicted))\n",
        "print('F1 Score:', f1_score(y_test, y_predicted, average='weighted'))\n",
        "print('ROC-AUC Score:', roc_auc_score(y_test,y_predicted))\n",
        "print('\\n')\n",
        "print('Classifcation report:\\n', classification_report(y_test, y_predicted))\n",
        "print('Confusion matrix:\\n', confusion_matrix(y_true = y_test, y_pred=y_predicted))"
      ],
      "execution_count": null,
      "outputs": [
        {
          "output_type": "stream",
          "name": "stdout",
          "text": [
            "Logistic Regression\n",
            "\n",
            "\n",
            "Accuracy: 0.8617886178861789\n",
            "F1 Score: 0.850398579307016\n",
            "ROC-AUC Score: 0.7835913312693499\n",
            "\n",
            "\n",
            "Classifcation report:\n",
            "               precision    recall  f1-score   support\n",
            "\n",
            "           0       0.96      0.58      0.72        38\n",
            "           1       0.84      0.99      0.91        85\n",
            "\n",
            "    accuracy                           0.86       123\n",
            "   macro avg       0.90      0.78      0.81       123\n",
            "weighted avg       0.88      0.86      0.85       123\n",
            "\n",
            "Confusion matrix:\n",
            " [[22 16]\n",
            " [ 1 84]]\n",
            "-------------------------------------------\n",
            "\n",
            "\n",
            "Logistic Regression with ROS\n",
            "\n",
            "\n",
            "Counter({1: 337, 0: 252})\n",
            "Accuracy: 0.8292682926829268\n",
            "F1 Score: 0.8256956372380624\n",
            "ROC-AUC Score: 0.7818885448916408\n",
            "\n",
            "\n",
            "Classifcation report:\n",
            "               precision    recall  f1-score   support\n",
            "\n",
            "           0       0.76      0.66      0.70        38\n",
            "           1       0.86      0.91      0.88        85\n",
            "\n",
            "    accuracy                           0.83       123\n",
            "   macro avg       0.81      0.78      0.79       123\n",
            "weighted avg       0.83      0.83      0.83       123\n",
            "\n",
            "Confusion matrix:\n",
            " [[25 13]\n",
            " [ 8 77]]\n",
            "--------------------\n",
            "\n",
            "\n",
            "Logistic Regression with RUS\n",
            "\n",
            "\n",
            "Counter({0: 154, 1: 154})\n",
            "Accuracy: 0.7804878048780488\n",
            "F1 Score: 0.7826840915267335\n",
            "ROC-AUC Score: 0.7538699690402476\n",
            "\n",
            "\n",
            "Classifcation report:\n",
            "               precision    recall  f1-score   support\n",
            "\n",
            "           0       0.63      0.68      0.66        38\n",
            "           1       0.85      0.82      0.84        85\n",
            "\n",
            "    accuracy                           0.78       123\n",
            "   macro avg       0.74      0.75      0.75       123\n",
            "weighted avg       0.79      0.78      0.78       123\n",
            "\n",
            "Confusion matrix:\n",
            " [[26 12]\n",
            " [15 70]]\n",
            "--------------------\n",
            "\n",
            "\n",
            "Logistic Regression with SMOTH\n",
            "\n",
            "\n",
            "Accuracy: 0.7398373983739838\n",
            "F1 Score: 0.7476961651089469\n",
            "ROC-AUC Score: 0.7390092879256966\n",
            "\n",
            "\n",
            "Classifcation report:\n",
            "               precision    recall  f1-score   support\n",
            "\n",
            "           0       0.56      0.74      0.64        38\n",
            "           1       0.86      0.74      0.80        85\n",
            "\n",
            "    accuracy                           0.74       123\n",
            "   macro avg       0.71      0.74      0.72       123\n",
            "weighted avg       0.77      0.74      0.75       123\n",
            "\n",
            "Confusion matrix:\n",
            " [[28 10]\n",
            " [22 63]]\n"
          ]
        }
      ]
    },
    {
      "cell_type": "markdown",
      "metadata": {
        "id": "Pj0toBuANYo4"
      },
      "source": [
        "# Conclusion\n",
        "The results show that random forest with random oversample performs better than the other models in all metrics. and second score is for logistic regression"
      ]
    }
  ]
}